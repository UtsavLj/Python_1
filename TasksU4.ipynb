{
 "cells": [
  {
   "cell_type": "markdown",
   "metadata": {},
   "source": [
    "# Immutable Data Structures"
   ]
  },
  {
   "cell_type": "markdown",
   "metadata": {},
   "source": [
    "### Number of Lower And Upper Case"
   ]
  },
  {
   "cell_type": "code",
   "execution_count": 5,
   "metadata": {},
   "outputs": [
    {
     "name": "stdout",
     "output_type": "stream",
     "text": [
      "Enter A sentence with mixed Cases:Utsav Hirani nWill Be ZTherwe\n",
      "6 UpperCase\n",
      "19 Lowercase\n",
      "4 Spaces\n",
      "29\n"
     ]
    }
   ],
   "source": [
    "st=input(\"Enter A sentence with mixed Cases:\")\n",
    "l=0\n",
    "u=0\n",
    "s=0\n",
    "for i in st:\n",
    "    if i.islower():\n",
    "        l+=1\n",
    "    elif i.isupper():\n",
    "        u+=1\n",
    "    elif i.isspace():\n",
    "        s+=1\n",
    "print(f\"{u} UpperCase\\n{l} Lowercase\\n{s} Spaces\\n{len(st)}\")"
   ]
  },
  {
   "cell_type": "markdown",
   "metadata": {},
   "source": [
    "### Remove i'th Char from a String"
   ]
  },
  {
   "cell_type": "code",
   "execution_count": 4,
   "metadata": {},
   "outputs": [
    {
     "name": "stdout",
     "output_type": "stream",
     "text": [
      "Enter the String:Utsav Hirani\n",
      "Enter The Index:11\n",
      "Utsav Hiran\n"
     ]
    }
   ],
   "source": [
    "s=input(\"Enter the String:\")\n",
    "n=int(input(\"Enter The Index:\"))\n",
    "s1=\"\"\n",
    "for i,j in enumerate(s):\n",
    "    if i==n:\n",
    "        continue\n",
    "    s1+=j\n",
    "print(s1)"
   ]
  },
  {
   "cell_type": "code",
   "execution_count": 12,
   "metadata": {},
   "outputs": [
    {
     "name": "stdout",
     "output_type": "stream",
     "text": [
      "Enter the String:abcde\n",
      "Enter The Index:3\n",
      "abce\n"
     ]
    }
   ],
   "source": [
    "s=input(\"Enter the String:\")\n",
    "n=int(input(\"Enter The Index:\"))\n",
    "if n<len(s):\n",
    "    if n==len(s)-1:\n",
    "        s=s[n]\n",
    "    else:\n",
    "        s=s[:n]+s[n+1:]\n",
    "print(s)"
   ]
  },
  {
   "cell_type": "markdown",
   "metadata": {},
   "source": [
    "### Count digits,alphabets,special characters,spaces in a string"
   ]
  },
  {
   "cell_type": "code",
   "execution_count": 13,
   "metadata": {},
   "outputs": [
    {
     "name": "stdout",
     "output_type": "stream",
     "text": [
      "Enter A sentence with mixed Cases:uBF  OIUARN& i4312 ,Y(*\n",
      "Letters:11\n",
      "Digits:4\n",
      "Special Characters:4\n",
      "Spaces:4\n"
     ]
    }
   ],
   "source": [
    "st=input(\"Enter A sentence with mixed Cases:\")\n",
    "l=0\n",
    "d=0\n",
    "sp=0\n",
    "s=0\n",
    "for i in st:\n",
    "    if i.isdigit():\n",
    "        d+=1\n",
    "    elif i.isalpha():\n",
    "        l+=1\n",
    "    elif i.isspace():\n",
    "        s+=1\n",
    "    else:\n",
    "        sp+=1\n",
    "print(f\"Letters:{l}\\nDigits:{d}\\nSpecial Characters:{sp}\\nSpaces:{s}\")"
   ]
  },
  {
   "cell_type": "markdown",
   "metadata": {},
   "source": [
    "### Find all occurence of substring ignoring the case"
   ]
  },
  {
   "cell_type": "code",
   "execution_count": 3,
   "metadata": {},
   "outputs": [
    {
     "name": "stdout",
     "output_type": "stream",
     "text": [
      "Enter The String:Hello mister how are you and how do you do your doing\n",
      "Enter the Sub String:do\n",
      "3\n"
     ]
    }
   ],
   "source": [
    "s=input(\"Enter The String:\").lower()\n",
    "sub=input(\"Enter the Sub String:\").lower()\n",
    "c=0\n",
    "i=0\n",
    "while(True):\n",
    "    x=s.find(sub,i)\n",
    "    if x!=-1:\n",
    "        c+=1\n",
    "        i=x+len(sub)\n",
    "    else:\n",
    "        break\n",
    "print(c)\n"
   ]
  },
  {
   "cell_type": "code",
   "execution_count": 4,
   "metadata": {},
   "outputs": [
    {
     "name": "stdout",
     "output_type": "stream",
     "text": [
      "Enter The String:Usa is USa in usa rudsusa\n",
      "Enter the Sub String:usa\n",
      "Occurence:4\n"
     ]
    }
   ],
   "source": [
    "s=input(\"Enter The String:\").lower()\n",
    "sub=input(\"Enter the Sub String:\").lower()\n",
    "print(f\"Occurence:{s.count(sub)}\")"
   ]
  },
  {
   "cell_type": "markdown",
   "metadata": {},
   "source": [
    "### Calculate Sum and average of the digits present in string"
   ]
  },
  {
   "cell_type": "code",
   "execution_count": 6,
   "metadata": {},
   "outputs": [
    {
     "name": "stdout",
     "output_type": "stream",
     "text": [
      "Enter String:12345utsav67890!@@#87\n",
      "Sum:60\n",
      "Average:5.0\n"
     ]
    }
   ],
   "source": [
    "s=input(\"Enter String:\")\n",
    "sum=0\n",
    "c=0\n",
    "for i in s:\n",
    "    if i.isdigit():\n",
    "        sum+=int(i)\n",
    "        c+=1\n",
    "print(f\"Sum:{sum}\\nAverage:{sum/c}\")"
   ]
  },
  {
   "cell_type": "markdown",
   "metadata": {},
   "source": [
    "### Replace with Hash #"
   ]
  },
  {
   "cell_type": "code",
   "execution_count": 9,
   "metadata": {},
   "outputs": [
    {
     "name": "stdout",
     "output_type": "stream",
     "text": [
      "Enter the String:Utsav@huh@JJI1!!!*&^\n",
      "Utsav#huh#JJI1######\n"
     ]
    }
   ],
   "source": [
    "import string\n",
    "s=input(\"Enter the String:\")\n",
    "s=s.translate(str.maketrans(string.punctuation,\"#\"*32))\n",
    "print(s)"
   ]
  },
  {
   "cell_type": "code",
   "execution_count": 10,
   "metadata": {},
   "outputs": [
    {
     "name": "stdout",
     "output_type": "stream",
     "text": [
      "Enter the String:Utsav@huh@JJI1!!!*&^\n",
      "Utsav#huh#JJI1######\n"
     ]
    }
   ],
   "source": [
    "import string\n",
    "s=input(\"Enter the String:\")\n",
    "for i in string.punctuation:\n",
    "    s=s.replace(i,\"#\")\n",
    "print(s)"
   ]
  },
  {
   "cell_type": "markdown",
   "metadata": {},
   "source": [
    "### Find min and max in tuple"
   ]
  },
  {
   "cell_type": "code",
   "execution_count": 12,
   "metadata": {},
   "outputs": [
    {
     "name": "stdout",
     "output_type": "stream",
     "text": [
      "Min:1\n",
      "Max:15\n"
     ]
    }
   ],
   "source": [
    "t=12,13,14,15,12,11,1\n",
    "n=t[0]\n",
    "x=t[0]\n",
    "for i in t:\n",
    "    if x<i:\n",
    "        x=i\n",
    "    elif n>i:\n",
    "        n=i\n",
    "print(f\"Min:{n}\\nMax:{x}\")"
   ]
  },
  {
   "cell_type": "markdown",
   "metadata": {},
   "source": [
    "### Even length words in a string"
   ]
  },
  {
   "cell_type": "code",
   "execution_count": 14,
   "metadata": {},
   "outputs": [
    {
     "name": "stdout",
     "output_type": "stream",
     "text": [
      "Enter the String:Utsav Hirani is the greatest \n",
      "Hirani\n",
      "is\n",
      "greatest\n",
      "\n"
     ]
    }
   ],
   "source": [
    "s=input(\"Enter the String:\")\n",
    "for i in s.split():\n",
    "    if len(i)%2==0:\n",
    "        print(i)"
   ]
  },
  {
   "cell_type": "markdown",
   "metadata": {},
   "source": [
    "### Half String Upper\n"
   ]
  },
  {
   "cell_type": "code",
   "execution_count": 17,
   "metadata": {},
   "outputs": [
    {
     "name": "stdout",
     "output_type": "stream",
     "text": [
      "Enter the String:abcdeefsDDG\n",
      "ABCDEefsDDG\n"
     ]
    }
   ],
   "source": [
    "s=input(\"Enter the String:\")\n",
    "print(s[:len(s)//2].upper()+s[len(s)//2:])"
   ]
  },
  {
   "cell_type": "markdown",
   "metadata": {},
   "source": [
    "### Capitalize first and last letter of each word"
   ]
  },
  {
   "cell_type": "code",
   "execution_count": 27,
   "metadata": {},
   "outputs": [
    {
     "name": "stdout",
     "output_type": "stream",
     "text": [
      "Enter The String:utsav hirani\n",
      "UtsaV HiranI\n"
     ]
    }
   ],
   "source": [
    "s=input(\"Enter The String:\")\n",
    "s1=\"\"\n",
    "for i in s.split():\n",
    "    s1+=i[0].upper()+i[1:-1]+i[-1].upper()+\" \"\n",
    "print(s1.rstrip())\n",
    "    "
   ]
  },
  {
   "cell_type": "markdown",
   "metadata": {},
   "source": [
    "### Balanced String"
   ]
  },
  {
   "cell_type": "code",
   "execution_count": 34,
   "metadata": {},
   "outputs": [
    {
     "name": "stdout",
     "output_type": "stream",
     "text": [
      "Enter the String1:ac\n",
      "Enter the String2:sdd\n",
      "Not Balanced\n"
     ]
    }
   ],
   "source": [
    "s1=input(\"Enter the String1:\")\n",
    "s2=input(\"Enter the String2:\")\n",
    "flag=True\n",
    "for i in s1:\n",
    "    if i not in s2:\n",
    "        flag=False\n",
    "        break\n",
    "print(\"Balanced\" if flag else \"Not Balanced\")"
   ]
  },
  {
   "cell_type": "markdown",
   "metadata": {},
   "source": [
    "### Shift the digits to left"
   ]
  },
  {
   "cell_type": "code",
   "execution_count": 46,
   "metadata": {},
   "outputs": [
    {
     "name": "stdout",
     "output_type": "stream",
     "text": [
      "Enter the String:1223424\n",
      "Enter the Shift:4\n",
      "4241223\n"
     ]
    }
   ],
   "source": [
    "s=str(int(input(\"Enter the String:\")))\n",
    "n=int(input(\"Enter the Shift:\"))\n",
    "if n<len(s): \n",
    "    s=s[n:]+s[:n]\n",
    "else:\n",
    "    s=s[::-1]\n",
    "print(s)"
   ]
  },
  {
   "cell_type": "markdown",
   "metadata": {},
   "source": [
    "### Password Checker"
   ]
  },
  {
   "cell_type": "markdown",
   "metadata": {},
   "source": [
    "1. Minimum 8 Characters\n",
    "2. The Alphabets must be in between (a-z) \n",
    "3. Atleast 1 Uppercase\n",
    "4. Atleast 1 Digit\n",
    "5. Atleast 1 Special Character from  (@ , _ , $)"
   ]
  },
  {
   "cell_type": "code",
   "execution_count": 17,
   "metadata": {},
   "outputs": [
    {
     "name": "stdout",
     "output_type": "stream",
     "text": [
      "Enter Password: Utsav@1233\n",
      "Password Valid\n"
     ]
    }
   ],
   "source": [
    "def passwordChecker(s):\n",
    "    u,d,sp=0,0,0\n",
    "    if len(s)<8:\n",
    "        return \"Minimum Length is 8 Characters\"\n",
    "    else:\n",
    "        for i in s:\n",
    "            if i.isalnum() or i in \"@$_\":\n",
    "                if i.isupper():\n",
    "                    u=1\n",
    "                elif i.isdigit():\n",
    "                    d=1\n",
    "                elif i in \"@$_\":\n",
    "                    sp=1\n",
    "            else:\n",
    "                return f\"Invalid Character:'{i}'\"\n",
    "    return \"Password Valid\" if u+d+sp==3 else \"Use Atleast 1 Digit, Upercase, Special Charcter.\"\n",
    "\n",
    "s=input(\"Enter Password: \")\n",
    "print(passwordChecker(s))"
   ]
  },
  {
   "cell_type": "markdown",
   "metadata": {},
   "source": [
    "### Find and return positions"
   ]
  },
  {
   "cell_type": "code",
   "execution_count": 7,
   "metadata": {},
   "outputs": [
    {
     "name": "stdout",
     "output_type": "stream",
     "text": [
      "Enter the String: Utsav is not in USA or UAE\n",
      "Enter the Sub: U\n",
      "U found on index:0\n",
      "U found on index:16\n",
      "U found on index:23\n",
      "Occurence of U:3\n"
     ]
    }
   ],
   "source": [
    "s=input(\"Enter the String: \")\n",
    "sub=input(\"Enter the Sub: \")\n",
    "i=0\n",
    "c=0\n",
    "while True:\n",
    "    i=s.find(sub,i)\n",
    "    if i!=-1:\n",
    "        print(f\"{sub} found on index:{i}\")\n",
    "        i+=1\n",
    "        c+=1\n",
    "    else:\n",
    "        break\n",
    "print(f\"Occurence of {sub}:{c}\" if c!=0 else f\"{sub} Not Found\")"
   ]
  },
  {
   "cell_type": "markdown",
   "metadata": {},
   "source": [
    "### Sort Alphabets and Numbers in respective order"
   ]
  },
  {
   "cell_type": "code",
   "execution_count": null,
   "metadata": {},
   "outputs": [],
   "source": [
    "s=input(\"Enter the String:\")\n",
    "a=\"\"\n",
    "d=\"\"\n",
    "for i in s:\n",
    "    if i.isalpha():\n",
    "        a+=i\n",
    "    elif i.isdigit():\n",
    "        d+=i\n",
    "print(\"\".join(sorted(a)+sorted(d)))"
   ]
  },
  {
   "cell_type": "markdown",
   "metadata": {},
   "source": [
    "### String Multiplier"
   ]
  },
  {
   "cell_type": "code",
   "execution_count": 18,
   "metadata": {},
   "outputs": [
    {
     "name": "stdout",
     "output_type": "stream",
     "text": [
      "aaaabbbcceeeee\n"
     ]
    }
   ],
   "source": [
    "s=\"a4b3c2e5\"\n",
    "s1=\"\"\n",
    "for i in range(0,len(s),2):\n",
    "    s1+=s[i]*int(s[i+1])\n",
    "print(s1)"
   ]
  }
 ],
 "metadata": {
  "kernelspec": {
   "display_name": "Python 3",
   "language": "python",
   "name": "python3"
  },
  "language_info": {
   "codemirror_mode": {
    "name": "ipython",
    "version": 3
   },
   "file_extension": ".py",
   "mimetype": "text/x-python",
   "name": "python",
   "nbconvert_exporter": "python",
   "pygments_lexer": "ipython3",
   "version": "3.8.5"
  }
 },
 "nbformat": 4,
 "nbformat_minor": 4
}
