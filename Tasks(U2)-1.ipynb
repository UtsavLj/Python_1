{
 "cells": [
  {
   "cell_type": "markdown",
   "metadata": {},
   "source": [
    "## Fibonacci Series Upto N terms"
   ]
  },
  {
   "cell_type": "code",
   "execution_count": 14,
   "metadata": {},
   "outputs": [
    {
     "name": "stdout",
     "output_type": "stream",
     "text": [
      "Enter the N [0-n]:8\n",
      "0 1 1 2 3 5 8 13"
     ]
    }
   ],
   "source": [
    "x=0\n",
    "y=1\n",
    "n=int(input(\"Enter the N [0-n]:\"))\n",
    "if(n==1):\n",
    "    print(x)\n",
    "elif(n>1):    \n",
    "    print(f\"{x} {y}\",end=\"\")\n",
    "    for i in range(2,n):\n",
    "        print(f\" {x+y}\",end=\"\")\n",
    "        x,y=y,x+y\n",
    "else:\n",
    "    print(\"Enter Valid Input!!\")"
   ]
  },
  {
   "cell_type": "markdown",
   "metadata": {},
   "source": [
    "## Check For Prime Number"
   ]
  },
  {
   "cell_type": "code",
   "execution_count": 30,
   "metadata": {},
   "outputs": [
    {
     "name": "stdout",
     "output_type": "stream",
     "text": [
      "Enter N:5\n",
      "5 is a Prime Number\n"
     ]
    }
   ],
   "source": [
    "n=int(input(\"Enter N:\"))\n",
    "c=0\n",
    "for i in range(2,n//2+1):\n",
    "    if n%i==0:\n",
    "        c+=1\n",
    "if c==0:\n",
    "    print(f\"{n} is a Prime Number\")\n",
    "else:\n",
    "    print(f\"{n} is a Composite Number\")"
   ]
  },
  {
   "cell_type": "markdown",
   "metadata": {},
   "source": [
    "## Check for Prime Numbers in a Range"
   ]
  },
  {
   "cell_type": "code",
   "execution_count": 41,
   "metadata": {},
   "outputs": [
    {
     "name": "stdout",
     "output_type": "stream",
     "text": [
      "Enter The Start:2\n",
      "Enter The End:100\n",
      "2 3 5 7 11 13 17 19 23 29 31 37 41 43 47 53 59 61 67 71 73 79 83 89 97 \n",
      "There Are 25 Prime Numbers in Between 2 and 100\n"
     ]
    }
   ],
   "source": [
    "s=int(input(\"Enter The Start:\"))\n",
    "e=int(input(\"Enter The End:\"))\n",
    "p=0\n",
    "if(e<=s):\n",
    "    print(\"Enter Valid Input!!\")\n",
    "else:\n",
    "    for n in range(s,e+1):\n",
    "        c=0\n",
    "        for i in range(2,n//2+1):\n",
    "            if n%i==0:\n",
    "                c+=1\n",
    "        if c==0:\n",
    "            p+=1\n",
    "            print(n,end=\" \")\n",
    "            \n",
    "print(f\"\\nThere Are {p} Prime Numbers in Between {s} and {e}\")"
   ]
  },
  {
   "cell_type": "markdown",
   "metadata": {},
   "source": [
    "# Patterns"
   ]
  },
  {
   "cell_type": "markdown",
   "metadata": {},
   "source": [
    "## Left Right Angle"
   ]
  },
  {
   "cell_type": "code",
   "execution_count": 15,
   "metadata": {},
   "outputs": [
    {
     "name": "stdout",
     "output_type": "stream",
     "text": [
      "Enter N:5\n",
      "* \n",
      "* * \n",
      "* * * \n",
      "* * * * \n",
      "* * * * * \n"
     ]
    }
   ],
   "source": [
    "n=int(input(\"Enter N:\"))\n",
    "for i in range(1,n+1):\n",
    "    print(i*\"* \")"
   ]
  },
  {
   "cell_type": "markdown",
   "metadata": {},
   "source": [
    "### Numbers"
   ]
  },
  {
   "cell_type": "code",
   "execution_count": 16,
   "metadata": {},
   "outputs": [
    {
     "name": "stdout",
     "output_type": "stream",
     "text": [
      "Enter N:5\n",
      "1 \n",
      "1 2 \n",
      "1 2 3 \n",
      "1 2 3 4 \n",
      "1 2 3 4 5 \n"
     ]
    }
   ],
   "source": [
    "n=int(input(\"Enter N:\"))\n",
    "for i in range(1,n+1):\n",
    "    for j in range(1,i+1):\n",
    "        print(j,end=\" \") # Can Also Use i variable but it will print same number in line\n",
    "    print()"
   ]
  },
  {
   "cell_type": "code",
   "execution_count": 6,
   "metadata": {},
   "outputs": [
    {
     "name": "stdout",
     "output_type": "stream",
     "text": [
      "Enter N:5\n",
      "A \n",
      "A B \n",
      "A B C \n",
      "A B C D \n",
      "A B C D E \n"
     ]
    }
   ],
   "source": [
    "n=int(input(\"Enter N:\"))\n",
    "for i in range(1,n+1):\n",
    "    x=65\n",
    "    for j in range(1,i+1):\n",
    "        print(chr(x),end=\" \")\n",
    "        x+=1\n",
    "    print()"
   ]
  },
  {
   "cell_type": "code",
   "execution_count": 8,
   "metadata": {},
   "outputs": [
    {
     "name": "stdout",
     "output_type": "stream",
     "text": [
      "Enter N:5\n",
      "a \n",
      "b c \n",
      "d e f \n",
      "g h i j \n",
      "k l m n o \n"
     ]
    }
   ],
   "source": [
    "n=int(input(\"Enter N:\"))\n",
    "x=97\n",
    "for i in range(1,n+1):\n",
    "    for j in range(1,i+1):\n",
    "        print(chr(x),end=\" \")\n",
    "        x+=1\n",
    "    print()"
   ]
  },
  {
   "cell_type": "code",
   "execution_count": 7,
   "metadata": {},
   "outputs": [
    {
     "name": "stdout",
     "output_type": "stream",
     "text": [
      "Enter N:5\n",
      "1 \n",
      "2 3 \n",
      "4 5 6 \n",
      "7 8 9 10 \n",
      "11 12 13 14 15 \n"
     ]
    }
   ],
   "source": [
    "n=int(input(\"Enter N:\"))\n",
    "x=1\n",
    "for i in range(1,n+1):\n",
    "    for j in range(1,i+1):\n",
    "        print(x,end=\" \")\n",
    "        x+=1\n",
    "    print()"
   ]
  },
  {
   "cell_type": "code",
   "execution_count": 11,
   "metadata": {},
   "outputs": [
    {
     "name": "stdout",
     "output_type": "stream",
     "text": [
      "Enter N:5\n",
      "* \n",
      "# # \n",
      "* * * \n",
      "# # # # \n",
      "* * * * * \n"
     ]
    }
   ],
   "source": [
    "n=int(input(\"Enter N:\"))\n",
    "for i in range(1,n+1):\n",
    "    x=\"*\"\n",
    "    if i%2==0:\n",
    "        x=\"#\"\n",
    "    print(f\"{x} \"*i)"
   ]
  },
  {
   "cell_type": "code",
   "execution_count": 20,
   "metadata": {},
   "outputs": [
    {
     "name": "stdout",
     "output_type": "stream",
     "text": [
      "Enter N:5\n",
      "1 \n",
      "0 1 \n",
      "1 0 1 \n",
      "0 1 0 1 \n",
      "1 0 1 0 1 \n"
     ]
    }
   ],
   "source": [
    "n=int(input(\"Enter N:\"))\n",
    "for i in range(1,n+1):\n",
    "    for j in range(1,i+1):\n",
    "        print((i+j+1)%2,end=\" \")\n",
    "    print()"
   ]
  },
  {
   "cell_type": "markdown",
   "metadata": {},
   "source": [
    "## Left Desceneding Right Angle "
   ]
  },
  {
   "cell_type": "code",
   "execution_count": 22,
   "metadata": {},
   "outputs": [
    {
     "name": "stdout",
     "output_type": "stream",
     "text": [
      "Enter The Number:5\n",
      "1 0 1 0 1 \n",
      "0 1 0 1 \n",
      "1 0 1 \n",
      "0 1 \n",
      "1 \n"
     ]
    }
   ],
   "source": [
    "n=int(input(\"Enter The Number:\"))\n",
    "for i in range(1,n+1):\n",
    "    for j in range(1,n+2-i):\n",
    "        print((i+j+1)%2,end=\" \")\n",
    "    print()"
   ]
  },
  {
   "cell_type": "code",
   "execution_count": 30,
   "metadata": {},
   "outputs": [
    {
     "name": "stdout",
     "output_type": "stream",
     "text": [
      "Enter The Number:5\n",
      "* * * * * \n",
      " * * * * \n",
      "  * * * \n",
      "   * * \n",
      "    * \n"
     ]
    }
   ],
   "source": [
    "n=int(input(\"Enter The Number:\"))\n",
    "for i in range(1,n+1):\n",
    "    for k in range(1,i):\n",
    "        print(\" \",end=\"\")\n",
    "    for j in range(i,n+1):\n",
    "        print(\"*\",end=\" \")\n",
    "    print()"
   ]
  },
  {
   "cell_type": "markdown",
   "metadata": {},
   "source": [
    "## RIght Angle "
   ]
  },
  {
   "cell_type": "code",
   "execution_count": 36,
   "metadata": {},
   "outputs": [
    {
     "name": "stdout",
     "output_type": "stream",
     "text": [
      "Enter The Number:5\n",
      "    *\n",
      "   **\n",
      "  ***\n",
      " ****\n",
      "*****\n"
     ]
    }
   ],
   "source": [
    "n=int(input(\"Enter The Number:\"))\n",
    "for i in range(1,n+1):\n",
    "    for k in range(1,n-i+1):\n",
    "        print(\" \",end=\"\")\n",
    "    for j in range(1,i+1):\n",
    "        print(\"*\",end=\"\")\n",
    "    print()"
   ]
  },
  {
   "cell_type": "markdown",
   "metadata": {},
   "source": [
    "## Task"
   ]
  },
  {
   "cell_type": "code",
   "execution_count": 39,
   "metadata": {},
   "outputs": [
    {
     "name": "stdout",
     "output_type": "stream",
     "text": [
      "Enter N:5\n",
      "1 \n",
      "A B \n",
      "1 2 3 \n",
      "A B C D \n",
      "1 2 3 4 5 \n"
     ]
    }
   ],
   "source": [
    "n=int(input(\"Enter N:\"))\n",
    "for i in range(1,n+1):\n",
    "    for j in range(1,1+i):\n",
    "        if i%2==1:\n",
    "            print(j,end=\" \")\n",
    "        else:\n",
    "            print(chr(64+j),end=\" \")\n",
    "    print()"
   ]
  }
 ],
 "metadata": {
  "kernelspec": {
   "display_name": "Python 3",
   "language": "python",
   "name": "python3"
  },
  "language_info": {
   "codemirror_mode": {
    "name": "ipython",
    "version": 3
   },
   "file_extension": ".py",
   "mimetype": "text/x-python",
   "name": "python",
   "nbconvert_exporter": "python",
   "pygments_lexer": "ipython3",
   "version": "3.8.5"
  }
 },
 "nbformat": 4,
 "nbformat_minor": 4
}
