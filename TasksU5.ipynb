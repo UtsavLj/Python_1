{
 "cells": [
  {
   "cell_type": "markdown",
   "metadata": {},
   "source": [
    "# Mutable Data Structures"
   ]
  },
  {
   "cell_type": "code",
   "execution_count": 2,
   "metadata": {},
   "outputs": [
    {
     "name": "stdout",
     "output_type": "stream",
     "text": [
      "Row Wise\n",
      "[1, 2, 3]\n",
      "[4, 5, 6]\n",
      "[7, 8, 9]\n",
      "Matrix Style\n",
      "1 2 3 \n",
      "4 5 6 \n",
      "7 8 9 \n"
     ]
    }
   ],
   "source": [
    "l=[[1,2,3],[4,5,6],[7,8,9]]\n",
    "\n",
    "print(\"Row Wise\")\n",
    "for i in l:\n",
    "    print(i)\n",
    "\n",
    "print(\"Matrix Style\")\n",
    "for i in l:\n",
    "    for j in i:\n",
    "        print(j,end=\" \")\n",
    "    print()"
   ]
  },
  {
   "cell_type": "markdown",
   "metadata": {},
   "source": [
    "## Remove all occurence"
   ]
  },
  {
   "cell_type": "code",
   "execution_count": 14,
   "metadata": {},
   "outputs": [
    {
     "name": "stdout",
     "output_type": "stream",
     "text": [
      "Enter The list:12 123 12 111 123\n",
      "Enter the number to remove:12\n",
      "[123, 111, 123]\n"
     ]
    }
   ],
   "source": [
    "l=[int(x) for x in input(\"Enter The list:\").split()]\n",
    "n=int(input(\"Enter the number to remove:\"))\n",
    "while(n in l):\n",
    "    l.remove(n)\n",
    "print(l)"
   ]
  },
  {
   "cell_type": "markdown",
   "metadata": {},
   "source": [
    "##  Largest Odd and Even \n"
   ]
  },
  {
   "cell_type": "code",
   "execution_count": 8,
   "metadata": {},
   "outputs": [
    {
     "name": "stdout",
     "output_type": "stream",
     "text": [
      "Enter The list:12 14 16\n",
      "Max Even16\n",
      "Max Odd:False\n"
     ]
    }
   ],
   "source": [
    "l=[int(x) for x in input(\"Enter The list:\").split()]\n",
    "mo=me=False\n",
    "for i in l:\n",
    "    if i%2==0:\n",
    "        me=i\n",
    "    else:\n",
    "        mo=i\n",
    "    if me and mo: break\n",
    "for i in l:\n",
    "    if i>me and i%2==0:\n",
    "        me=i\n",
    "    elif i>mo and i%2==1:\n",
    "        mo=i\n",
    "print(f\"Max Even{me}\\nMax Odd:{mo}\")"
   ]
  },
  {
   "cell_type": "code",
   "execution_count": 3,
   "metadata": {},
   "outputs": [
    {
     "name": "stdout",
     "output_type": "stream",
     "text": [
      "Enter The list:12 14 14 16 18\n",
      "Max Even:18\n",
      "Max Odd:Not Found\n"
     ]
    }
   ],
   "source": [
    "l=[int(x) for x in input(\"Enter The list:\").split()]\n",
    "mo=[x for x in l if x%2==1]\n",
    "me=[x for x in l if x%2==0]\n",
    "mo=max(mo) if len(mo)!=0 else \"Not Found\"\n",
    "me=max(me) if len(me)!=0 else \"Not Found\"\n",
    "print(f\"Max Even:{me}\\nMax Odd:{mo}\")"
   ]
  },
  {
   "cell_type": "markdown",
   "metadata": {},
   "source": [
    "## Shift to Right"
   ]
  },
  {
   "cell_type": "code",
   "execution_count": 9,
   "metadata": {},
   "outputs": [
    {
     "name": "stdout",
     "output_type": "stream",
     "text": [
      "Enter The list:1 2 3 4 5\n",
      "Enter the shift:6\n",
      "[1, 2, 3, 4, 5]\n"
     ]
    }
   ],
   "source": [
    "l=[int(x) for x in input(\"Enter The list:\").split()]\n",
    "n=int(input(\"Enter the shift:\"))\n",
    "l=l[-n:]+l[:-n]\n",
    "print(l)"
   ]
  },
  {
   "cell_type": "markdown",
   "metadata": {},
   "source": [
    "## Transpose a 2d matrix"
   ]
  },
  {
   "cell_type": "code",
   "execution_count": 20,
   "metadata": {},
   "outputs": [
    {
     "name": "stdout",
     "output_type": "stream",
     "text": [
      "Enter the Matrix(2d form):  [[1,2,3,12],[4,5,6,14],[7,8,9,16]]\n",
      "Original Matrix:\n",
      "[1, 2, 3, 12]\n",
      "[4, 5, 6, 14]\n",
      "[7, 8, 9, 16]\n",
      "Transpose Matrix:\n",
      "[1, 4, 7]\n",
      "[2, 5, 8]\n",
      "[3, 6, 9]\n",
      "[12, 14, 16]\n"
     ]
    }
   ],
   "source": [
    "m=eval(input(\"Enter the Matrix(2d form): \"))\n",
    "print(\"Original Matrix:\")\n",
    "for i in m:\n",
    "    print(i)\n",
    "print(\"Transpose Matrix:\")\n",
    "for i in range(len(m[0])):\n",
    "    l=[m[j][i] for j in range(len(m))]\n",
    "    print(l)"
   ]
  },
  {
   "cell_type": "markdown",
   "metadata": {},
   "source": [
    "## Frequency more than k"
   ]
  },
  {
   "cell_type": "code",
   "execution_count": 23,
   "metadata": {},
   "outputs": [
    {
     "name": "stdout",
     "output_type": "stream",
     "text": [
      "Enter K:2\n",
      "[1, 2, 4, 5]\n"
     ]
    }
   ],
   "source": [
    "l=[1,1,1,1,2,2,2,2,3,3,4,4,4,5,5,5,5,5,6,6]\n",
    "k=int(input(\"Enter K:\"))\n",
    "hf=[]\n",
    "for i in set(l):\n",
    "    if l.count(i)>k and i not in hf:\n",
    "        hf.append(i)\n",
    "print(hf)"
   ]
  },
  {
   "cell_type": "markdown",
   "metadata": {},
   "source": [
    "## Print Index of Unmatched elements in 2 lists"
   ]
  },
  {
   "cell_type": "code",
   "execution_count": 25,
   "metadata": {},
   "outputs": [
    {
     "name": "stdout",
     "output_type": "stream",
     "text": [
      "Enter List 1:[1,2,3,4]\n",
      "Enter List 2:[1,2,0,2]\n",
      "Index no.: [2, 3]\n"
     ]
    }
   ],
   "source": [
    "l1=eval(input(\"Enter List 1:\"))\n",
    "l2=eval(input(\"Enter List 2:\"))\n",
    "if len(l1)==len(l2):\n",
    "    n=[i for i in range(len(l1)) if l1[i]!=l2[i]]\n",
    "    print(\"Index no.:\",n)\n",
    "else:\n",
    "    print(\"Length of both lists must be same.\")"
   ]
  },
  {
   "cell_type": "markdown",
   "metadata": {},
   "source": [
    "## Count strings whose length is >=3 and has same first and last Character"
   ]
  },
  {
   "cell_type": "code",
   "execution_count": 28,
   "metadata": {},
   "outputs": [
    {
     "name": "stdout",
     "output_type": "stream",
     "text": [
      "3\n"
     ]
    }
   ],
   "source": [
    "l=[\"Hello\",\"HiH\",\"heheh\",\"Neron\",\"neon\",\"ii\"]\n",
    "print(len([x for x in l if len(x)>=3 and x[0]==x[-1]]))"
   ]
  },
  {
   "cell_type": "markdown",
   "metadata": {},
   "source": [
    "## Dictionary with Words and their frequency"
   ]
  },
  {
   "cell_type": "code",
   "execution_count": 3,
   "metadata": {},
   "outputs": [
    {
     "name": "stdout",
     "output_type": "stream",
     "text": [
      "Enter a String:hello how are you are you ok\n",
      "{'hello': 1, 'how': 1, 'are': 2, 'you': 2, 'ok': 1}\n"
     ]
    }
   ],
   "source": [
    "s=input(\"Enter a String:\").split()\n",
    "d={i:s.count(i) for i in s}\n",
    "print(d)"
   ]
  },
  {
   "cell_type": "markdown",
   "metadata": {},
   "source": [
    "## Create a dict with first character as key and words list as value"
   ]
  },
  {
   "cell_type": "code",
   "execution_count": 6,
   "metadata": {},
   "outputs": [
    {
     "name": "stdout",
     "output_type": "stream",
     "text": [
      "Enter a String:fuiif udvfsdkf b\n",
      "{'f': ['fuiif'], 'u': ['udvfsdkf'], 'b': ['b']}\n"
     ]
    }
   ],
   "source": [
    "s=input(\"Enter a String:\").split()\n",
    "d={}\n",
    "for i in s:\n",
    "    if i[0] in d:\n",
    "        d[i[0]].append(i)\n",
    "    else:\n",
    "        d[i[0]]=[i]\n",
    "print(d)"
   ]
  },
  {
   "cell_type": "markdown",
   "metadata": {},
   "source": [
    "## Replace the words of a String from lookup dictionary"
   ]
  },
  {
   "cell_type": "code",
   "execution_count": 4,
   "metadata": {},
   "outputs": [
    {
     "name": "stdout",
     "output_type": "stream",
     "text": [
      "Enter Your String:it is Best DS Student\n",
      "it is The Best DSA Employee\n"
     ]
    }
   ],
   "source": [
    "s=input(\"Enter Your String:\")\n",
    "lookup_dict={\"Best\":\"The Best\",\"DS\":\"DSA\",\"Student\":\"Employee\"}\n",
    "for i,j in lookup_dict.items():\n",
    "    s=s.replace(i,j)\n",
    "print(s)"
   ]
  },
  {
   "cell_type": "code",
   "execution_count": 9,
   "metadata": {},
   "outputs": [
    {
     "name": "stdout",
     "output_type": "stream",
     "text": [
      "Enter Your String:You are Best\n",
      "You are The Best\n"
     ]
    }
   ],
   "source": [
    "s=input(\"Enter Your String:\").split()\n",
    "lookup_dict={\"Best\":\"The Best\",\"DS\":\"DSA\",\"Student\":\"Employee\"}\n",
    "l=\" \".join([lookup_dict[i] if i in lookup_dict else i for i in s])\n",
    "print(l)"
   ]
  },
  {
   "cell_type": "markdown",
   "metadata": {},
   "source": [
    "  ## List of Size N. Count the Number of Special Elements in the given list an element is special if removal of that element makes the list balanced. the list will be balanced if sum of even index elements is equal to the sum of odd indexed elements. also print the updated list after removal of special elements"
   ]
  },
  {
   "cell_type": "code",
   "execution_count": 18,
   "metadata": {},
   "outputs": [
    {
     "name": "stdout",
     "output_type": "stream",
     "text": [
      "Enter the list:[5,2,5,8,5]\n",
      "Index Removed:[0]\n",
      "Balanced List:[2, 5, 8, 5]\n",
      "Index Removed:[4]\n",
      "Balanced List:[5, 2, 5, 8]\n",
      "Number of Special Elements:2\n"
     ]
    }
   ],
   "source": [
    "l=eval(input(\"Enter the list:\"))\n",
    "c=0\n",
    "for i in range(len(l)):\n",
    "    l1=l[:i]+l[i+1:] if i+1<len(l) else l[:i]\n",
    "    se,so=sum(l1[::2]),sum(l1[1::2])\n",
    "    if se==so:\n",
    "        print(f\"Index Removed:[{i}]\\nBalanced List:{l1}\")\n",
    "        c+=1\n",
    "print(f\"Number of Special Elements:{c}\")"
   ]
  },
  {
   "cell_type": "markdown",
   "metadata": {},
   "source": [
    "## Caesar Encryption"
   ]
  },
  {
   "cell_type": "code",
   "execution_count": 42,
   "metadata": {},
   "outputs": [
    {
     "name": "stdout",
     "output_type": "stream",
     "text": [
      "Enter the StringDEFABCdefabc\n",
      "Enter The Key:5\n",
      "Enter [0]Decryption [1]Encryption :1\n",
      "IJKFGHijkfgh\n"
     ]
    }
   ],
   "source": [
    "enc=int(input(\"Enter [0]Decryption [1]Encryption :\"))\n",
    "plain_text=input(\"Enter the String\")\n",
    "shift=int(input(\"Enter The Key:\"))\n",
    "def Caesar(s:str,shift:int,enc:bool=True):\n",
    "    res=\"\"\n",
    "    shift=abs(shift)\n",
    "    if s.isalpha():\n",
    "            for i in s:\n",
    "                    if i.islower():\n",
    "                        if enc:\n",
    "                            res+=chr(ord(i)+shift) if ord(i)+shift<123 else chr(((ord(i)+shift)%123)+97)\n",
    "                        else:\n",
    "                            res+=chr(ord(i)-shift) if ord(i)-shift>96 else chr(ord(i)-shift+26)\n",
    "                    else:\n",
    "                        if enc:\n",
    "                            res+=chr(ord(i)+shift) if ord(i)+shift<91 else chr(((ord(i)+shift)%91)+65)\n",
    "                        else:\n",
    "                            res+=chr(ord(i)-shift) if ord(i)-shift>64 else chr(ord(i)-shift+26)\n",
    "                            \n",
    "    return res\n",
    "print(Caesar(plain_text,shift,enc))"
   ]
  },
  {
   "cell_type": "code",
   "execution_count": null,
   "metadata": {},
   "outputs": [],
   "source": []
  }
 ],
 "metadata": {
  "kernelspec": {
   "display_name": "Python 3",
   "language": "python",
   "name": "python3"
  },
  "language_info": {
   "codemirror_mode": {
    "name": "ipython",
    "version": 3
   },
   "file_extension": ".py",
   "mimetype": "text/x-python",
   "name": "python",
   "nbconvert_exporter": "python",
   "pygments_lexer": "ipython3",
   "version": "3.8.5"
  }
 },
 "nbformat": 4,
 "nbformat_minor": 4
}
