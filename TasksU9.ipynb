{
 "cells": [
  {
   "cell_type": "markdown",
   "metadata": {},
   "source": [
    "## Course Book "
   ]
  },
  {
   "cell_type": "code",
   "execution_count": 7,
   "metadata": {},
   "outputs": [
    {
     "name": "stdout",
     "output_type": "stream",
     "text": [
      "\n",
      "Name:HOD\n",
      "Number of Authors:2\n",
      "Authors:['RD', 'GGM']\n",
      "Publisher:SOINF\n",
      "ISBN:1234\n",
      "Year:2024\n",
      "\n",
      "\n",
      "Course:Character Study\n",
      "Name:HOD\n",
      "Number of Authors:2\n",
      "Authors:['RD', 'GGM']\n",
      "Publisher:SOINF\n",
      "ISBN:1234\n",
      "Year:2024\n",
      "\n"
     ]
    }
   ],
   "source": [
    "class book:\n",
    "    def __init__(self,name:str,nauth:int,auths:list,publisher:str,isbn:int,year:int):\n",
    "        self.name=name\n",
    "        self.nauth=nauth\n",
    "        self.auths=auths\n",
    "        self.publisher=publisher      \n",
    "        self.isbn=isbn      \n",
    "        self.year=year\n",
    "    def __str__(self):\n",
    "        return f\"\\nName:{self.name}\\nNumber of Authors:{self.nauth}\\nAuthors:{self.auths}\\nPublisher:{self.publisher}\\nISBN:{self.isbn}\\nYear:{self.year}\\n\"\n",
    "class Course_Book(book):\n",
    "    def __init__(self,name:str,nauth:int,auths:list,publisher:str,isbn:int,year:int,course:str):\n",
    "        super().__init__(name,nauth,auths,publisher,isbn,year)\n",
    "        self.course=course\n",
    "    def __str__(self):\n",
    "        return f\"\\nCourse:{self.course}{super().__str__()}\"\n",
    "    \n",
    "print(book(\"HOD\",2,[\"RD\",\"GGM\"],\"SOINF\",1234,2024))\n",
    "print(Course_Book(\"HOD\",2,[\"RD\",\"GGM\"],\"SOINF\",1234,2024,\"Character Study\"))"
   ]
  },
  {
   "cell_type": "markdown",
   "metadata": {},
   "source": [
    "## Bus Fare"
   ]
  },
  {
   "cell_type": "code",
   "execution_count": 2,
   "metadata": {},
   "outputs": [
    {
     "name": "stdout",
     "output_type": "stream",
     "text": [
      "5500\n"
     ]
    }
   ],
   "source": [
    "class vehicle:\n",
    "    def __init__(self,name,mileage,sittingCap):\n",
    "        self.name=name\n",
    "        self.mileage=mileage\n",
    "        self.sittingCap=sittingCap\n",
    "    def fare(self):\n",
    "        return self.sittingCap*100\n",
    "class bus(vehicle):\n",
    "    def __init__(self,name,mileage,sittingCap):\n",
    "        super().__init__(name,mileage,sittingCap)\n",
    "    def fare(self):\n",
    "        return self.sittingCap*110\n",
    "b=bus(\"Eagle\",20,50)\n",
    "print(b.fare())"
   ]
  },
  {
   "cell_type": "markdown",
   "metadata": {},
   "source": [
    "## Emplyee Class :Abstract Class\n",
    " ###### getEmployee(): takes user input for id name and base salary\n",
    " ###### employeeDetails(): display\n",
    " ###### getSalary(): returns base salary\n",
    " ###### emp_id(): abstract id\n",
    "## Perks(Employee) :Child Class\n",
    " ###### calcPerks() : DA,HRA,PF\n",
    " ###### printPerks() :display\n",
    " ###### totalPerks() :DA+HRA-PF\n",
    " ###### emp_id() :pass\n",
    "## NetSalary(Perks) :Grandchild\n",
    " ###### getTotal() :calc total salary\n",
    " ###### showTotal(): Display total "
   ]
  },
  {
   "cell_type": "code",
   "execution_count": 7,
   "metadata": {},
   "outputs": [
    {
     "name": "stdout",
     "output_type": "stream",
     "text": [
      "Employee Id:7\n",
      "Employee Name:Utsav\n",
      "Employee Base Salary:150000\n",
      "\n",
      "ID:7\n",
      "Name:Utsav\n",
      "Base Salary:150000\n",
      "Dearness Allowance:52500.0\n",
      "House Rent Allowance:25500.000000000004\n",
      "Provident Fund:18000.0\n",
      "Total Salary:210000.0\n"
     ]
    }
   ],
   "source": [
    "from abc import ABC,abstractmethod\n",
    "class Employee(ABC):\n",
    "    def getEmployee(self):\n",
    "        self.id=int(input(\"Employee Id:\"))\n",
    "        self.name=input(\"Employee Name:\")        \n",
    "        self.baseSalary=int(input(\"Employee Base Salary:\"))\n",
    "    def employeeDetails(self):\n",
    "        print(f\"\\nID:{self.id}\\nName:{self.name}\\nBase Salary:{self.baseSalary}\")\n",
    "    def getSalary(self):\n",
    "        return self.baseSalary\n",
    "    @abstractmethod\n",
    "    def emp_id(self):\n",
    "        pass\n",
    "\n",
    "class Perks(Employee):\n",
    "    def __init__(self):\n",
    "        super().getEmployee()\n",
    "        self.calcPerks()\n",
    "    def calcPerks(self):\n",
    "        self.DA=self.baseSalary*.35\n",
    "        self.HRA=self.baseSalary*.17     \n",
    "        self.PF=self.baseSalary*.12\n",
    "    def printPerks(self):\n",
    "        print(f\"Dearness Allowance:{self.DA}\\nHouse Rent Allowance:{self.HRA}\\nProvident Fund:{self.PF}\")\n",
    "    def totalPerks(self):\n",
    "        return self.DA+self.HRA-self.PF\n",
    "    def emp_id(self):\n",
    "        pass\n",
    "\n",
    "class NetSalary(Perks):\n",
    "    def __init__(self):\n",
    "        super().__init__()\n",
    "        self.getTotal()\n",
    "    def getTotal(self):\n",
    "        self.totalSalary=self.baseSalary+self.totalPerks()\n",
    "    def showTotal(self):\n",
    "        self.employeeDetails()\n",
    "        self.printPerks()\n",
    "        print(f\"Total Salary:{self.totalSalary}\")\n",
    "        \n",
    "obj=NetSalary()\n",
    "obj.showTotal() "
   ]
  },
  {
   "cell_type": "markdown",
   "metadata": {},
   "source": [
    "## Billing Code"
   ]
  },
  {
   "cell_type": "code",
   "execution_count": 1,
   "metadata": {},
   "outputs": [
    {
     "name": "stdout",
     "output_type": "stream",
     "text": [
      "HDD $5000\n",
      "Do you want this? Y/N : y\n",
      "How Many? : 3\n",
      "RAM $2000\n",
      "Do you want this? Y/N : n\n",
      "Printer $6000\n",
      "Do you want this? Y/N : n\n",
      "Pendrive $800\n",
      "Do you want this? Y/N : n\n",
      "HDD*3=15000\n",
      "RAM*0=0\n",
      "Printer*0=0\n",
      "Pendrive*0=0\n",
      "Total: 15000\n",
      "\n",
      "\n",
      "How would you like to Pay:[1]Cash [2]Cheque :1\n"
     ]
    },
    {
     "ename": "NameError",
     "evalue": "name 'cashPayment' is not defined",
     "output_type": "error",
     "traceback": [
      "\u001b[1;31m---------------------------------------------------------------------------\u001b[0m",
      "\u001b[1;31mNameError\u001b[0m                                 Traceback (most recent call last)",
      "\u001b[1;32m<ipython-input-1-dc42ee54802b>\u001b[0m in \u001b[0;36m<module>\u001b[1;34m\u001b[0m\n\u001b[0;32m     21\u001b[0m         \u001b[1;32melse\u001b[0m\u001b[1;33m:\u001b[0m\u001b[1;33m\u001b[0m\u001b[1;33m\u001b[0m\u001b[0m\n\u001b[0;32m     22\u001b[0m             \u001b[0mprint\u001b[0m\u001b[1;33m(\u001b[0m\u001b[1;34m\"Payment Method Unavailable!!\"\u001b[0m\u001b[1;33m)\u001b[0m\u001b[1;33m\u001b[0m\u001b[1;33m\u001b[0m\u001b[0m\n\u001b[1;32m---> 23\u001b[1;33m \u001b[0mb\u001b[0m\u001b[1;33m=\u001b[0m\u001b[0mbill\u001b[0m\u001b[1;33m(\u001b[0m\u001b[1;33m)\u001b[0m\u001b[1;33m\u001b[0m\u001b[1;33m\u001b[0m\u001b[0m\n\u001b[0m",
      "\u001b[1;32m<ipython-input-1-dc42ee54802b>\u001b[0m in \u001b[0;36m__init__\u001b[1;34m(self)\u001b[0m\n\u001b[0;32m     16\u001b[0m         \u001b[0mc\u001b[0m\u001b[1;33m=\u001b[0m\u001b[0mint\u001b[0m\u001b[1;33m(\u001b[0m\u001b[0minput\u001b[0m\u001b[1;33m(\u001b[0m\u001b[1;34mf\"\\n\\nHow would you like to Pay:[1]Cash [2]Cheque :\"\u001b[0m\u001b[1;33m)\u001b[0m\u001b[1;33m)\u001b[0m\u001b[1;33m\u001b[0m\u001b[1;33m\u001b[0m\u001b[0m\n\u001b[0;32m     17\u001b[0m         \u001b[1;32mif\u001b[0m \u001b[0mc\u001b[0m\u001b[1;33m==\u001b[0m\u001b[1;36m1\u001b[0m\u001b[1;33m:\u001b[0m\u001b[1;33m\u001b[0m\u001b[1;33m\u001b[0m\u001b[0m\n\u001b[1;32m---> 18\u001b[1;33m             \u001b[0mcashPayment\u001b[0m\u001b[1;33m(\u001b[0m\u001b[1;33m)\u001b[0m\u001b[1;33m\u001b[0m\u001b[1;33m\u001b[0m\u001b[0m\n\u001b[0m\u001b[0;32m     19\u001b[0m         \u001b[1;32melif\u001b[0m \u001b[0mc\u001b[0m\u001b[1;33m==\u001b[0m\u001b[1;36m2\u001b[0m\u001b[1;33m:\u001b[0m\u001b[1;33m\u001b[0m\u001b[1;33m\u001b[0m\u001b[0m\n\u001b[0;32m     20\u001b[0m             \u001b[0mchequePayment\u001b[0m\u001b[1;33m(\u001b[0m\u001b[1;33m)\u001b[0m\u001b[1;33m\u001b[0m\u001b[1;33m\u001b[0m\u001b[0m\n",
      "\u001b[1;31mNameError\u001b[0m: name 'cashPayment' is not defined"
     ]
    }
   ],
   "source": [
    "class bill:\n",
    "    rates={\"HDD\":5000,\"RAM\":2000,\"Printer\":6000,\"Pendrive\":800}\n",
    "    def __init__(self):\n",
    "        self.order={\"HDD\":0,\"RAM\":0,\"Printer\":0,\"Pendrive\":0,\"Total\":0}\n",
    "        for i,j in bill.rates.items():\n",
    "            print(f\"{i} ${j}\")\n",
    "            c=input(\"Do you want this? Y/N : \").lower()\n",
    "            if c==\"y\":\n",
    "                n=int(input(\"How Many? : \"))\n",
    "                self.order[i]=n\n",
    "                self.order[\"Total\"]+=(self.order[i]*bill.rates[i])\n",
    "        print(f\"Total: ${self.order['Total']}\")\n",
    "        c=int(input(f\"\\n\\nHow would you like to Pay:[1]Cash [2]Cheque :\"))\n",
    "        if c==1:\n",
    "            cashPayment()\n",
    "        elif c==2:\n",
    "            chequePayment()\n",
    "        else:\n",
    "            print(\"Payment Method Unavailable!!\")\n",
    "class cashPayment(bill):\n",
    "    def __init__(self):\n",
    "        total=self.order[\"Total\"]\n",
    "        print(\"Selected Payment Method is CASH\")\n",
    "        \n",
    "b=bill()"
   ]
  }
 ],
 "metadata": {
  "kernelspec": {
   "display_name": "Python 3",
   "language": "python",
   "name": "python3"
  },
  "language_info": {
   "codemirror_mode": {
    "name": "ipython",
    "version": 3
   },
   "file_extension": ".py",
   "mimetype": "text/x-python",
   "name": "python",
   "nbconvert_exporter": "python",
   "pygments_lexer": "ipython3",
   "version": "3.8.5"
  }
 },
 "nbformat": 4,
 "nbformat_minor": 4
}
