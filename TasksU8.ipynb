{
 "cells": [
  {
   "cell_type": "markdown",
   "metadata": {},
   "source": [
    "# OOPs Basics and Error Handling"
   ]
  },
  {
   "cell_type": "markdown",
   "metadata": {},
   "source": [
    "## CheckBalance Function"
   ]
  },
  {
   "cell_type": "code",
   "execution_count": 9,
   "metadata": {},
   "outputs": [
    {
     "name": "stdout",
     "output_type": "stream",
     "text": [
      "Try to Withdraw less Failed withdrawal\n"
     ]
    },
    {
     "ename": "LowBalance",
     "evalue": "Can Not Withdraw, 99000",
     "output_type": "error",
     "traceback": [
      "\u001b[1;31m---------------------------------------------------------------------------\u001b[0m",
      "\u001b[1;31mLowBalance\u001b[0m                                Traceback (most recent call last)",
      "\u001b[1;32m<ipython-input-9-aa577ebc7755>\u001b[0m in \u001b[0;36m<module>\u001b[1;34m\u001b[0m\n\u001b[0;32m     14\u001b[0m \u001b[1;32mexcept\u001b[0m \u001b[0mLowBalance\u001b[0m\u001b[1;33m:\u001b[0m\u001b[1;33m\u001b[0m\u001b[1;33m\u001b[0m\u001b[0m\n\u001b[0;32m     15\u001b[0m     \u001b[0mprint\u001b[0m\u001b[1;33m(\u001b[0m\u001b[1;34m\"Try to Withdraw less Failed withdrawal\"\u001b[0m\u001b[1;33m)\u001b[0m\u001b[1;33m\u001b[0m\u001b[1;33m\u001b[0m\u001b[0m\n\u001b[1;32m---> 16\u001b[1;33m \u001b[0mcheckBalance\u001b[0m\u001b[1;33m(\u001b[0m\u001b[1;36m100000\u001b[0m\u001b[1;33m,\u001b[0m\u001b[1;36m99000\u001b[0m\u001b[1;33m)\u001b[0m\u001b[1;33m\u001b[0m\u001b[1;33m\u001b[0m\u001b[0m\n\u001b[0m",
      "\u001b[1;32m<ipython-input-9-aa577ebc7755>\u001b[0m in \u001b[0;36mcheckBalance\u001b[1;34m(balance, withdraw)\u001b[0m\n\u001b[0;32m      5\u001b[0m \u001b[1;32mdef\u001b[0m \u001b[0mcheckBalance\u001b[0m\u001b[1;33m(\u001b[0m\u001b[0mbalance\u001b[0m\u001b[1;33m,\u001b[0m\u001b[0mwithdraw\u001b[0m\u001b[1;33m)\u001b[0m\u001b[1;33m:\u001b[0m\u001b[1;33m\u001b[0m\u001b[1;33m\u001b[0m\u001b[0m\n\u001b[0;32m      6\u001b[0m     \u001b[1;32mif\u001b[0m \u001b[0mbalance\u001b[0m\u001b[1;33m-\u001b[0m\u001b[0mwithdraw\u001b[0m\u001b[1;33m<\u001b[0m\u001b[1;36m2000\u001b[0m\u001b[1;33m:\u001b[0m\u001b[1;33m\u001b[0m\u001b[1;33m\u001b[0m\u001b[0m\n\u001b[1;32m----> 7\u001b[1;33m         \u001b[1;32mraise\u001b[0m \u001b[0mLowBalance\u001b[0m\u001b[1;33m(\u001b[0m\u001b[1;34mf\"Can Not Withdraw, {withdraw}\"\u001b[0m\u001b[1;33m)\u001b[0m\u001b[1;33m\u001b[0m\u001b[1;33m\u001b[0m\u001b[0m\n\u001b[0m\u001b[0;32m      8\u001b[0m     \u001b[1;32melse\u001b[0m\u001b[1;33m:\u001b[0m\u001b[1;33m\u001b[0m\u001b[1;33m\u001b[0m\u001b[0m\n\u001b[0;32m      9\u001b[0m         \u001b[1;32mreturn\u001b[0m \u001b[0mbalance\u001b[0m\u001b[1;33m-\u001b[0m\u001b[0mwithdraw\u001b[0m\u001b[1;33m\u001b[0m\u001b[1;33m\u001b[0m\u001b[0m\n",
      "\u001b[1;31mLowBalance\u001b[0m: Can Not Withdraw, 99000"
     ]
    }
   ],
   "source": [
    "class LowBalance(Exception):\n",
    "    def __init__(self,arg):\n",
    "        self.msg=arg\n",
    "\n",
    "def checkBalance(balance,withdraw):\n",
    "    if balance-withdraw<2000:\n",
    "        raise LowBalance(f\"Can Not Withdraw, {withdraw}\")\n",
    "    else:\n",
    "        return balance-withdraw\n",
    "try:\n",
    "    checkBalance(10000,800)\n",
    "    checkBalance(10000,9800)    \n",
    "    checkBalance(10000,8000)\n",
    "except LowBalance:\n",
    "    print(\"Try to Withdraw less Failed withdrawal\")\n",
    "checkBalance(100000,99000)"
   ]
  },
  {
   "cell_type": "markdown",
   "metadata": {},
   "source": [
    "## OOP Demonstration"
   ]
  },
  {
   "cell_type": "code",
   "execution_count": 14,
   "metadata": {},
   "outputs": [],
   "source": [
    "class Employee:\n",
    "    def __init__(self,name,age,salary):\n",
    "        self.name=name\n",
    "        self.age=age        \n",
    "        self.salary=salary\n",
    "    def display(self):\n",
    "        print(self.name,self.age,self.salary)"
   ]
  },
  {
   "cell_type": "code",
   "execution_count": 16,
   "metadata": {},
   "outputs": [
    {
     "name": "stdout",
     "output_type": "stream",
     "text": [
      "Harry 23 243990\n",
      "Harsh 23 243990\n",
      "Homie 23 243990\n"
     ]
    }
   ],
   "source": [
    "emp1=Employee(\"Harry\",23,243990)\n",
    "emp2=Employee(\"Harsh\",23,243990)\n",
    "emp3=Employee(\"Homie\",23,243990)\n",
    "emp1.display()\n",
    "emp2.display()\n",
    "emp3.display()"
   ]
  },
  {
   "cell_type": "code",
   "execution_count": 2,
   "metadata": {},
   "outputs": [],
   "source": [
    "class Student:\n",
    "    def __init__(self,name,enroll,batch):\n",
    "        self.name=name\n",
    "        self.enroll=enroll        \n",
    "        self.batch=batch\n",
    "    def set_marks(self):\n",
    "        self.ps=int(input(f\"[{self.enroll}] PS: \"))\n",
    "        self.python=int(input(f\"[{self.enroll}] Python: \"))        \n",
    "        self.fsd=int(input(f\"[{self.enroll}] FSD: \"))        \n",
    "        self.de=int(input(f\"[{self.enroll}] DE: \"))\n",
    "    def display_marks(self):\n",
    "        print(f\"[{self.enroll}]PS:{self.ps}\")\n",
    "        print(f\"[{self.enroll}]Python:{self.python}\")        \n",
    "        print(f\"[{self.enroll}]FSD:{self.fsd}\")        \n",
    "        print(f\"[{self.enroll}]DE:{self.de}\")   "
   ]
  },
  {
   "cell_type": "code",
   "execution_count": 3,
   "metadata": {},
   "outputs": [
    {
     "name": "stdout",
     "output_type": "stream",
     "text": [
      "[1] PS: 45\n",
      "[1] Python: 34\n",
      "[1] FSD: 34\n",
      "[1] DE: 55\n",
      "[1]PS:45\n",
      "[1]Python:34\n",
      "[1]FSD:34\n",
      "[1]DE:55\n"
     ]
    }
   ],
   "source": [
    "s1=Student(\"Naimee\",1,\"B8\")\n",
    "s2=Student(\"Naimee\",2,\"B8\")\n",
    "s3=Student(\"Naimee\",3,\"B8\")\n",
    "s1.set_marks()\n",
    "s1.display_marks()"
   ]
  },
  {
   "cell_type": "markdown",
   "metadata": {},
   "source": [
    "## Destructuring an Object"
   ]
  },
  {
   "cell_type": "code",
   "execution_count": 21,
   "metadata": {},
   "outputs": [],
   "source": [
    "class Employee:\n",
    "    def __init__(self,name,age,salary):\n",
    "        self.name=name\n",
    "        self.age=age        \n",
    "        self.salary=salary\n",
    "    def __del__(self):\n",
    "        print(\"Object Destroyed\")\n",
    "    def display(self):\n",
    "        print(self.name,self.age,self.salary)"
   ]
  },
  {
   "cell_type": "code",
   "execution_count": 22,
   "metadata": {},
   "outputs": [
    {
     "name": "stdout",
     "output_type": "stream",
     "text": [
      "Harry 23 243990\n",
      "Object Destroyed\n",
      "Homie 23 243990\n"
     ]
    }
   ],
   "source": [
    "emp1=Employee(\"Harry\",23,243990)\n",
    "emp2=Employee(\"Harsh\",23,243990)\n",
    "emp3=Employee(\"Homie\",23,243990)\n",
    "emp1.display()\n",
    "del emp1\n",
    "emp3.display()"
   ]
  },
  {
   "cell_type": "markdown",
   "metadata": {},
   "source": [
    "## Car Task"
   ]
  },
  {
   "cell_type": "code",
   "execution_count": 1,
   "metadata": {},
   "outputs": [],
   "source": [
    "class Car:\n",
    "    def __init__(self):\n",
    "        self.name=input(\"Enter Car Name:\")\n",
    "        self.color=input(\"Enter Car Color:\")        \n",
    "        self.year=int(input(\"Enter Car Year:\")) \n",
    "        print(f\"ID:{id(self)}\")\n",
    "    def __del__(self):\n",
    "        print(f\"{self.color} {self.name} from year {self.year} has been Destroyed\")\n",
    "    def display(self):\n",
    "        print(f\"Name:{self.name}\")\n",
    "        print(f\"Color:{self.color}\")\n",
    "        print(f\"Year:{self.year}\")\n",
    "    def older(self,other):\n",
    "        if self.year<other.year:\n",
    "            print(f\"{self.name} is older than {other.name}\")\n",
    "        else:\n",
    "            print(f\"{other.name} is  older than {self.name}\")"
   ]
  },
  {
   "cell_type": "code",
   "execution_count": 2,
   "metadata": {},
   "outputs": [
    {
     "name": "stdout",
     "output_type": "stream",
     "text": [
      "Enter Car Name:Corola\n",
      "Enter Car Color:red\n",
      "Enter Car Year:1992\n",
      "ID:1851465326496\n",
      "Outer ID:1851465326496\n",
      "Name:Corola\n",
      "Color:red\n",
      "Year:1992\n",
      "Enter Car Name:Chevvy\n",
      "Enter Car Color:red\n",
      "Enter Car Year:1980\n",
      "ID:1851465272528\n",
      "Chevvy is  older than Corola\n",
      "red Chevvy from year 1980 has been Destroyed\n",
      "Name:Corola\n",
      "Color:red\n",
      "Year:1992\n"
     ]
    }
   ],
   "source": [
    "c1=Car()\n",
    "print(f\"Outer ID:{id(c1)}\")\n",
    "c1.display()\n",
    "c2=Car()\n",
    "c1.older(c2)\n",
    "del c2\n",
    "c1.display()"
   ]
  },
  {
   "cell_type": "markdown",
   "metadata": {},
   "source": [
    "## Provide a Table of N using Yield"
   ]
  },
  {
   "cell_type": "code",
   "execution_count": 15,
   "metadata": {},
   "outputs": [
    {
     "name": "stdout",
     "output_type": "stream",
     "text": [
      "[15, 30, 45, 60, 75, 90, 105, 120, 135, 150]\n"
     ]
    }
   ],
   "source": [
    "def table(n):\n",
    "    for i in range(1,11):\n",
    "        yield i*n\n",
    "t=list(table(15))\n",
    "print(t)"
   ]
  },
  {
   "cell_type": "markdown",
   "metadata": {},
   "source": [
    "## Student Marking System"
   ]
  },
  {
   "cell_type": "code",
   "execution_count": 18,
   "metadata": {},
   "outputs": [],
   "source": [
    "class Student:\n",
    "    branch=\"CSE\"\n",
    "    def __init__(self,name,enroll):\n",
    "        self.enroll=enroll\n",
    "        self.name=name\n",
    "        self.marks={}\n",
    "    def set_marks(self):\n",
    "        subs=[\"PS\",\"DE\",\"PYTHON\",\"FSD\",\"IC\"]\n",
    "        for sub in subs:\n",
    "            try:\n",
    "                t=int(input(f\"[{self.enroll}] {sub}:\"))\n",
    "            except ValueError:\n",
    "                print(\"Invalid Input!!\")\n",
    "                break\n",
    "            self.marks[sub]=t\n",
    "    def display(self):\n",
    "        print(f\"Enrollment No:{self.enroll} \\t\\t\\t Name:{self.name}\")\n",
    "        if len(self.marks)!=0:\n",
    "            for sub,marks in self.marks.items():\n",
    "                print(f\"{sub}:{marks}\")\n",
    "    def calculate_avg(self):\n",
    "        return sum(self.marks.values())/len(self.marks)"
   ]
  },
  {
   "cell_type": "code",
   "execution_count": 19,
   "metadata": {},
   "outputs": [
    {
     "name": "stdout",
     "output_type": "stream",
     "text": [
      "[122] PS:250\n",
      "[122] DE:230\n",
      "[122] PYTHON:250\n",
      "[122] FSD:230\n",
      "[122] IC:240\n",
      "Enrollment No:122 \t\t\t Name:Harry\n",
      "PS:250\n",
      "DE:230\n",
      "PYTHON:250\n",
      "FSD:230\n",
      "IC:240\n",
      "Average 240.0\n"
     ]
    }
   ],
   "source": [
    "s1=Student(\"Harry\",122)\n",
    "s1.set_marks()\n",
    "s1.display()\n",
    "print(\"Average\",s1.calculate_avg())"
   ]
  },
  {
   "cell_type": "markdown",
   "metadata": {},
   "source": [
    "## Pizza Order Using OOP"
   ]
  },
  {
   "cell_type": "code",
   "execution_count": null,
   "metadata": {},
   "outputs": [],
   "source": [
    "class pizza:\n",
    "    sizes={\"s\":50,\"m\":100,\"l\":200}\n",
    "    toppings=[\"corn\",\"tomato\",\"onion\",\"capsicum\",\"mushroom\",\"olives\",\"brocolli\"]\n",
    "    cheeses=[\"feta\",\"mozarella\",\"cheddar\"]\n",
    "    def __validated_input(s:str,l:list):\n",
    "        i=None\n",
    "        while i not in l:\n",
    "            if i!=None:\n",
    "                print(\"Invalid Input!\")\n",
    "            i=input(s)\n",
    "        return i\n",
    "    def take_\n",
    "    def __init__(self):\n",
    "        "
   ]
  }
 ],
 "metadata": {
  "kernelspec": {
   "display_name": "Python 3",
   "language": "python",
   "name": "python3"
  },
  "language_info": {
   "codemirror_mode": {
    "name": "ipython",
    "version": 3
   },
   "file_extension": ".py",
   "mimetype": "text/x-python",
   "name": "python",
   "nbconvert_exporter": "python",
   "pygments_lexer": "ipython3",
   "version": "3.8.5"
  }
 },
 "nbformat": 4,
 "nbformat_minor": 4
}
