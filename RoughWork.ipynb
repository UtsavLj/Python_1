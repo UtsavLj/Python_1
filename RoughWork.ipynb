{
 "cells": [
  {
   "cell_type": "markdown",
   "metadata": {},
   "source": [
    "# Rough Work"
   ]
  },
  {
   "cell_type": "code",
   "execution_count": 15,
   "metadata": {},
   "outputs": [
    {
     "name": "stdout",
     "output_type": "stream",
     "text": [
      "Enter A:abc\n",
      "Enter B:b\n",
      "False True False\n"
     ]
    }
   ],
   "source": [
    "a=input(\"Enter A:\")\n",
    "b=input(\"Enter B:\")\n",
    "print(a>b,b>a,a==b)"
   ]
  },
  {
   "cell_type": "code",
   "execution_count": 21,
   "metadata": {},
   "outputs": [
    {
     "name": "stdout",
     "output_type": "stream",
     "text": [
      "hello hello how do you say it hello hello\n"
     ]
    }
   ],
   "source": [
    "a=\"hello\"\n",
    "print(\"{0} hello how do you say it {0} {0}\".format(a,\"b\",\"c\"))"
   ]
  },
  {
   "cell_type": "code",
   "execution_count": 24,
   "metadata": {},
   "outputs": [
    {
     "name": "stdout",
     "output_type": "stream",
     "text": [
      "aoleh\n"
     ]
    }
   ],
   "source": [
    "a=\"     oleaolehello    \"\n",
    "print(a.strip(\"o   le \"))"
   ]
  },
  {
   "cell_type": "code",
   "execution_count": 12,
   "metadata": {},
   "outputs": [
    {
     "name": "stdout",
     "output_type": "stream",
     "text": [
      "zyhjyuzf@\n"
     ]
    }
   ],
   "source": [
    "import string\n",
    "t=\"ab$#$%%hjbuaf#$@\"\n",
    "t=t.translate(str.maketrans(\"ab\",\"zy\",string.punctuation.replace(\"@\",\"\")))\n",
    "print(t)"
   ]
  },
  {
   "cell_type": "code",
   "execution_count": 15,
   "metadata": {},
   "outputs": [
    {
     "name": "stdout",
     "output_type": "stream",
     "text": [
      "(1, 2, 3, [1, 2, 34, 5, 100])\n"
     ]
    }
   ],
   "source": [
    "t=1,2,3,[1,2,34,5]\n",
    "t[3].append(100)\n",
    "print(t)"
   ]
  },
  {
   "cell_type": "code",
   "execution_count": 17,
   "metadata": {},
   "outputs": [
    {
     "name": "stdout",
     "output_type": "stream",
     "text": [
      "['%', '10', 'a', 'abc', 'b']\n"
     ]
    }
   ],
   "source": [
    "t=\"a\",\"b\",\"abc\",\"10\",\"%\"\n",
    "t1=sorted(t)\n",
    "print(t1)"
   ]
  },
  {
   "cell_type": "code",
   "execution_count": 18,
   "metadata": {},
   "outputs": [
    {
     "name": "stdout",
     "output_type": "stream",
     "text": [
      "10\n",
      "12\n",
      "1203\n",
      "12\n",
      "1223\n"
     ]
    }
   ],
   "source": [
    "i=0\n",
    "t=(10,12,1203,12,1223)\n",
    "while(i<len(t)):\n",
    "    print(t[i])\n",
    "    i+=1"
   ]
  },
  {
   "cell_type": "code",
   "execution_count": 20,
   "metadata": {},
   "outputs": [
    {
     "name": "stdout",
     "output_type": "stream",
     "text": [
      "3 10\n",
      "4 20\n",
      "5 30\n",
      "6 50\n",
      "7 20\n"
     ]
    }
   ],
   "source": [
    "t=(10,20,30,50,20)\n",
    "for i,j in enumerate(t,start=3):\n",
    "    print(i,j)"
   ]
  }
 ],
 "metadata": {
  "kernelspec": {
   "display_name": "Python 3",
   "language": "python",
   "name": "python3"
  },
  "language_info": {
   "codemirror_mode": {
    "name": "ipython",
    "version": 3
   },
   "file_extension": ".py",
   "mimetype": "text/x-python",
   "name": "python",
   "nbconvert_exporter": "python",
   "pygments_lexer": "ipython3",
   "version": "3.8.5"
  }
 },
 "nbformat": 4,
 "nbformat_minor": 4
}
