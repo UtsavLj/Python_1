{
 "cells": [
  {
   "cell_type": "markdown",
   "metadata": {},
   "source": [
    "## Comparing 3 Numbers"
   ]
  },
  {
   "cell_type": "code",
   "execution_count": 2,
   "metadata": {},
   "outputs": [
    {
     "name": "stdout",
     "output_type": "stream",
     "text": [
      "Enter Number for A:121\n",
      "Enter Number for B:234\n",
      "Enter Number for C:24\n",
      "B is Greatest\n"
     ]
    }
   ],
   "source": [
    "a=int(input(\"Enter Number for A:\"))\n",
    "b=int(input(\"Enter Number for B:\"))\n",
    "c=int(input(\"Enter Number for C:\"))\n",
    "if a>b and a>c:\n",
    "    print(\"A is Greatest\")\n",
    "\n",
    "# The above Statement not being run implies \n",
    "# that a is not greater than either b or c \n",
    "# so to check for b we only need to check b>c\n",
    "\n",
    "elif b>c:\n",
    "    print(\"B is Greatest\")\n",
    "\n",
    "else:\n",
    "    print(\"C is Greatest\")"
   ]
  },
  {
   "cell_type": "markdown",
   "metadata": {},
   "source": [
    "## Leap Year or Not\n"
   ]
  },
  {
   "cell_type": "code",
   "execution_count": 3,
   "metadata": {},
   "outputs": [
    {
     "name": "stdout",
     "output_type": "stream",
     "text": [
      "Enter the year:1237\n",
      "Not a Leap Year\n"
     ]
    }
   ],
   "source": [
    "y=int(input(\"Enter the year:\"))\n",
    "# The Conditions for a leap year is it is divisible by 4 \n",
    "# except if it is centuries end (100's multiple) than check for divisible by 400.\n",
    "if (y%4==0 and y%100!=0) or y%400==0:\n",
    "    print(\"Leap Year\")\n",
    "else:\n",
    "    print(\"Not a Leap Year\")"
   ]
  },
  {
   "cell_type": "markdown",
   "metadata": {},
   "source": [
    "## Arithmetic Operation by Choice"
   ]
  },
  {
   "cell_type": "code",
   "execution_count": 8,
   "metadata": {},
   "outputs": [
    {
     "name": "stdout",
     "output_type": "stream",
     "text": [
      "Enter the Number A:12\n",
      "Enter the Number B:23\n",
      "Enter the operator sign:\n",
      "[1]Add(+) \n",
      "[2]Subtract(-) \n",
      "[3]Multiply(*)\n",
      "[4]Divide(/) \n",
      "[5]Modulo(%) \n",
      "[6]Floor Division(//) \n",
      "[7]Power(**)\n",
      "Sign:%\n",
      "12 % 23 = 12\n"
     ]
    }
   ],
   "source": [
    "a=int(input(\"Enter the Number A:\"))\n",
    "b=int(input(\"Enter the Number B:\"))\n",
    "o=input(\"\"\"Enter the operator sign:\\n[1]Add(+) \\n[2]Subtract(-) \\n[3]Multiply(*)\n",
    "[4]Divide(/) \\n[5]Modulo(%) \\n[6]Floor Division(//) \\n[7]Power(**)\\nSign:\"\"\")\n",
    "if(o==\"+\"):\n",
    "    r=a+b\n",
    "elif(o==\"-\"):\n",
    "    r=a-b\n",
    "elif(o==\"*\"):\n",
    "    r=a*b\n",
    "elif(o==\"/\" and b!=0):\n",
    "    r=a/b\n",
    "elif(o==\"%\"):\n",
    "    r=a%b\n",
    "elif(o==\"//\"):\n",
    "    r=a//b\n",
    "elif(o==\"**\"):\n",
    "    r=a**b\n",
    "else:\n",
    "    r=None\n",
    "\n",
    "if r!=None:\n",
    "    print(f\"{a} {o} {b} = {r}\")\n",
    "else:\n",
    "    print(\"Invalid Input!\")"
   ]
  },
  {
   "cell_type": "markdown",
   "metadata": {},
   "source": [
    "## Percentage and Grade of a Student"
   ]
  },
  {
   "cell_type": "code",
   "execution_count": 11,
   "metadata": {},
   "outputs": [
    {
     "name": "stdout",
     "output_type": "stream",
     "text": [
      "Enter the marks of Maths out of 100:99\n",
      "Enter the marks of Python out of 100:98\n",
      "Enter the marks of English out of 100:99\n",
      "You Have Passed with Distiction Grade\n"
     ]
    }
   ],
   "source": [
    "a=float(input(\"Enter the marks of Maths out of 100:\"))\n",
    "b=float(input(\"Enter the marks of Python out of 100:\"))\n",
    "c=float(input(\"Enter the marks of English out of 100:\"))\n",
    "p=(a+b+c)/3\n",
    "\n",
    "if(p<=100 and p>=80):\n",
    "    g=\"Distiction\"\n",
    "elif(p<80 and p>=60):\n",
    "    g=\"First Class\"\n",
    "elif(p<60 and p>=35):\n",
    "    g=\"Second Class\"\n",
    "else:\n",
    "    g=\"Fail\"\n",
    "\n",
    "if g==\"Fail\":\n",
    "    print(\"You Failed!!\")\n",
    "else:\n",
    "    print(f\"You Have Passed with {g} Grade\")"
   ]
  },
  {
   "cell_type": "markdown",
   "metadata": {},
   "source": [
    "## Last digit of a number is divisible by 3"
   ]
  },
  {
   "cell_type": "code",
   "execution_count": 13,
   "metadata": {},
   "outputs": [
    {
     "name": "stdout",
     "output_type": "stream",
     "text": [
      "Enter the number:2356\n",
      "6 is divisible by 3\n"
     ]
    }
   ],
   "source": [
    "x=int(input(\"Enter the number:\"))%10\n",
    "if x%3==0:\n",
    "    print(f\"{x} is divisible by 3\")\n",
    "else:\n",
    "    print(f\"{x} is not divisible by 3\")"
   ]
  },
  {
   "cell_type": "markdown",
   "metadata": {},
   "source": [
    "## Electricity Bill"
   ]
  },
  {
   "cell_type": "code",
   "execution_count": 20,
   "metadata": {},
   "outputs": [
    {
     "name": "stdout",
     "output_type": "stream",
     "text": [
      "Enter the Units:3500\n",
      "Your Bill is 33500$\n"
     ]
    }
   ],
   "source": [
    "u=int(input(\"Enter the Units:\"))\n",
    "r=0\n",
    "if u>100:\n",
    "    n=u-100\n",
    "    if n>100:\n",
    "        r+=500\n",
    "    else:\n",
    "        r+=n*5\n",
    "if u>200:\n",
    "    n=u-200\n",
    "    r+=n*10\n",
    "print(f\"Your Bill is {r}$\")"
   ]
  },
  {
   "cell_type": "markdown",
   "metadata": {},
   "source": [
    "## Cost Price and Road tax to get Total price"
   ]
  },
  {
   "cell_type": "code",
   "execution_count": 26,
   "metadata": {},
   "outputs": [
    {
     "name": "stdout",
     "output_type": "stream",
     "text": [
      "Enter the Price:60000\n",
      "Cost Price:60000$\n",
      "Road Tax:6000.0$ (10%)\n",
      "Total Price is 66000.0$\n"
     ]
    }
   ],
   "source": [
    "c=int(input(\"Enter the Price:\"))\n",
    "if c>100000:\n",
    "    t=15\n",
    "elif c>50000:\n",
    "    t=10\n",
    "else:\n",
    "    t=5\n",
    "print(f\"Cost Price:{c}$\\nRoad Tax:{c*(t/100)}$ ({t}%)\\nTotal Price is {c+c*(t/100)}$\")"
   ]
  },
  {
   "cell_type": "markdown",
   "metadata": {},
   "source": [
    "## Length of a Number"
   ]
  },
  {
   "cell_type": "code",
   "execution_count": 30,
   "metadata": {},
   "outputs": [
    {
     "name": "stdout",
     "output_type": "stream",
     "text": [
      "Enter the number:12345\n",
      "Length:5\n"
     ]
    }
   ],
   "source": [
    "n=int(input(\"Enter the number:\"))\n",
    "c=0\n",
    "while n>0:\n",
    "    c+=1\n",
    "    n//=10\n",
    "print(f\"Length:{c}\")"
   ]
  },
  {
   "cell_type": "markdown",
   "metadata": {},
   "source": [
    "## Length is 3 or not if the number is 3 digit display the middle digit "
   ]
  },
  {
   "cell_type": "code",
   "execution_count": 45,
   "metadata": {},
   "outputs": [
    {
     "name": "stdout",
     "output_type": "stream",
     "text": [
      "Enter the number:123\n",
      "Middle Digit is 2\n"
     ]
    }
   ],
   "source": [
    "n=int(input(\"Enter the number:\"))\n",
    "m=n%100//10 # Finding the last second digit \n",
    "c=0\n",
    "while n>0:\n",
    "    c+=1\n",
    "    n//=10\n",
    "s=f\"Middle Digit is {m}\" if c==3 else \"Enter 3 Digit Number only\"\n",
    "print(s)"
   ]
  },
  {
   "cell_type": "markdown",
   "metadata": {},
   "source": [
    "## Attendance Remark"
   ]
  },
  {
   "cell_type": "code",
   "execution_count": 50,
   "metadata": {},
   "outputs": [
    {
     "name": "stdout",
     "output_type": "stream",
     "text": [
      "Enter The Total Number of Working Days:100\n",
      "Enter The Days Of Absent:20\n",
      "Eligible for Exams\n"
     ]
    }
   ],
   "source": [
    "w=int(input(\"Enter The Total Number of Working Days:\"))\n",
    "a=int(input(\"Enter The Days Of Absent:\"))\n",
    "p=(w-a)*100/w\n",
    "if p>=75.0:\n",
    "    print(\"Eligible for Exams\")\n",
    "else:\n",
    "    print(\"Not ELigible for Exams\")"
   ]
  },
  {
   "cell_type": "markdown",
   "metadata": {},
   "source": [
    "## Check the type of Triangle"
   ]
  },
  {
   "cell_type": "code",
   "execution_count": 6,
   "metadata": {},
   "outputs": [
    {
     "name": "stdout",
     "output_type": "stream",
     "text": [
      "Enter Side A:12\n",
      "Enter Side B:12\n",
      "Enter Side C:12\n",
      "Equilateral Triangle\n"
     ]
    }
   ],
   "source": [
    "a=int(input(\"Enter Side A:\"))\n",
    "b=int(input(\"Enter Side B:\"))\n",
    "c=int(input(\"Enter Side C:\"))\n",
    "\n",
    "if(a==b==c):\n",
    "    print(\"Equilateral Triangle\")\n",
    "elif(a==b or a==c or b==c):\n",
    "    print(\"Isosceles Triangle\")\n",
    "else:\n",
    "    print(\"Scalene Triangle\")\n"
   ]
  },
  {
   "cell_type": "markdown",
   "metadata": {},
   "source": [
    "## Salary Counter based on Age, Gender and No. of Days"
   ]
  },
  {
   "cell_type": "code",
   "execution_count": 14,
   "metadata": {},
   "outputs": [
    {
     "name": "stdout",
     "output_type": "stream",
     "text": [
      "Enter the Age [18-40]:33\n",
      "Enter the Gender [M,F]:F\n",
      "Enter the No. of Days:2\n",
      "Salary: 1700$\n"
     ]
    }
   ],
   "source": [
    "age=int(input(\"Enter the Age [18-40]:\"))\n",
    "gender=input(\"Enter the Gender [M,F]:\")\n",
    "n=int(input(\"Enter the No. of Days:\"))\n",
    "\n",
    "if 18<age<40 and (gender in (\"M\",\"F\")):\n",
    "    if(gender==\"M\"):\n",
    "        if(age<30):\n",
    "            s=n*700\n",
    "        else:\n",
    "            s=n*750\n",
    "    else:\n",
    "        if(age<30):\n",
    "            s=n*800\n",
    "        else:\n",
    "            s=n*850\n",
    "    print(f\"Salary: {s}$\")\n",
    "else:\n",
    "    print(\"Invalid Input!!\")"
   ]
  },
  {
   "cell_type": "markdown",
   "metadata": {},
   "source": [
    "## Sum of N numbers"
   ]
  },
  {
   "cell_type": "code",
   "execution_count": 15,
   "metadata": {},
   "outputs": [
    {
     "name": "stdout",
     "output_type": "stream",
     "text": [
      "Enter the Number:5\n",
      "15\n"
     ]
    }
   ],
   "source": [
    "n=int(input(\"Enter the Number:\"))\n",
    "sum=0\n",
    "for i in range(1,n+1):\n",
    "    sum+=i\n",
    "print(sum)"
   ]
  },
  {
   "cell_type": "markdown",
   "metadata": {},
   "source": [
    "## Take multiple inputs and provide Average"
   ]
  },
  {
   "cell_type": "code",
   "execution_count": 21,
   "metadata": {},
   "outputs": [
    {
     "name": "stdout",
     "output_type": "stream",
     "text": [
      "Enter the number:1\n",
      "Enter the Number 1:12\n",
      "Sum:12\n",
      "Average:12.0\n"
     ]
    }
   ],
   "source": [
    "num=int(input(\"Enter the number:\"))\n",
    "sum=0\n",
    "for i in range(1,num+1):\n",
    "    n=int(input(f\"Enter the Number {i}:\"))\n",
    "    sum+=n\n",
    "print(f\"Sum:{sum}\\nAverage:{sum/num}\")"
   ]
  },
  {
   "cell_type": "markdown",
   "metadata": {},
   "source": [
    "## Take Multiple Inputs and bifurcate Odds and Evens"
   ]
  },
  {
   "cell_type": "code",
   "execution_count": 22,
   "metadata": {},
   "outputs": [
    {
     "name": "stdout",
     "output_type": "stream",
     "text": [
      "Enter the number:5\n",
      "Enter the Number 1:12\n",
      "Enter the Number 2:35\n",
      "Enter the Number 3:34\n",
      "Enter the Number 4:11\n",
      "Enter the Number 5:5\n",
      "Odd:\n",
      "Sum:51\n",
      "Count:3\n",
      "Even:\n",
      "Sum:46\n",
      "Count:2\n"
     ]
    }
   ],
   "source": [
    "num=int(input(\"Enter the number:\"))\n",
    "sumO=0\n",
    "sumE=0\n",
    "countO=0\n",
    "countE=0\n",
    "for i in range(1,num+1):\n",
    "    n=int(input(f\"Enter the Number {i}:\"))\n",
    "    if n%2==0:\n",
    "        countE+=1\n",
    "        sumE+=n\n",
    "    else:\n",
    "        countO+=1\n",
    "        sumO+=n\n",
    "print(f\"Odd:\\nSum:{sumO}\\nCount:{countO}\\nEven:\\nSum:{sumE}\\nCount:{countE}\")"
   ]
  },
  {
   "cell_type": "markdown",
   "metadata": {},
   "source": [
    "## Table using Loop"
   ]
  },
  {
   "cell_type": "code",
   "execution_count": 23,
   "metadata": {},
   "outputs": [
    {
     "name": "stdout",
     "output_type": "stream",
     "text": [
      "Enter the Number:5\n",
      "5 * 1 = 5\n",
      "5 * 2 = 10\n",
      "5 * 3 = 15\n",
      "5 * 4 = 20\n",
      "5 * 5 = 25\n",
      "5 * 6 = 30\n",
      "5 * 7 = 35\n",
      "5 * 8 = 40\n",
      "5 * 9 = 45\n",
      "5 * 10 = 50\n"
     ]
    }
   ],
   "source": [
    "n=int(input(\"Enter the Number:\"))\n",
    "for i in range(1,11):\n",
    "    print(n,\"*\",i,\"=\",n*i)"
   ]
  },
  {
   "cell_type": "markdown",
   "metadata": {},
   "source": [
    "## Divisibles Between a Range"
   ]
  },
  {
   "cell_type": "code",
   "execution_count": 25,
   "metadata": {},
   "outputs": [
    {
     "name": "stdout",
     "output_type": "stream",
     "text": [
      "Enter The Range Start:1\n",
      "Enter The Range End:50\n",
      "Enter The Divisor:3\n",
      "16 numbers between 1 to 50 are divisible by 3.\n"
     ]
    }
   ],
   "source": [
    "s=int(input(\"Enter The Range Start:\"))\n",
    "e=int(input(\"Enter The Range End:\"))\n",
    "c=int(input(\"Enter The Divisor:\"))\n",
    "count=0\n",
    "for i in range(s+1,e):\n",
    "    if i%c==0:\n",
    "        count+=1\n",
    "print(f\"{count} numbers between {s} to {e} are divisible by {c}.\")"
   ]
  },
  {
   "cell_type": "markdown",
   "metadata": {},
   "source": [
    "## Factorial of given number"
   ]
  },
  {
   "cell_type": "code",
   "execution_count": 33,
   "metadata": {},
   "outputs": [
    {
     "name": "stdout",
     "output_type": "stream",
     "text": [
      "Enter the Number:1\n",
      "Factorial= 1\n"
     ]
    }
   ],
   "source": [
    "n=int(input(\"Enter the Number:\"))\n",
    "f=1\n",
    "if(n<0):\n",
    "    print(\"Enter positive Integer\")\n",
    "elif(n>1):\n",
    "    for i in range(2,n+1):\n",
    "        f*=i\n",
    "    print(\"Factorial=\",f)\n",
    "else:\n",
    "    print(\"Factorial=\",f)"
   ]
  },
  {
   "cell_type": "markdown",
   "metadata": {},
   "source": [
    "## Reverse the Number WO using String"
   ]
  },
  {
   "cell_type": "code",
   "execution_count": 2,
   "metadata": {},
   "outputs": [
    {
     "name": "stdout",
     "output_type": "stream",
     "text": [
      "Enter The Number:12344\n",
      "44321"
     ]
    }
   ],
   "source": [
    "n=int(input(\"Enter The Number:\"))\n",
    "while(n>0):\n",
    "    print(n%10,end=\"\")\n",
    "    n//=10"
   ]
  },
  {
   "cell_type": "code",
   "execution_count": 8,
   "metadata": {},
   "outputs": [
    {
     "name": "stdout",
     "output_type": "stream",
     "text": [
      "Enter The Number:12342024\n",
      "revrse: 42024321\n"
     ]
    }
   ],
   "source": [
    "n=int(input(\"Enter The Number:\"))\n",
    "rn=0\n",
    "while n>0:\n",
    "    d=n%10\n",
    "    rn=rn*10+d\n",
    "    n//=10\n",
    "print(\"revrse:\",rn)"
   ]
  },
  {
   "cell_type": "markdown",
   "metadata": {},
   "source": [
    "## Sum of digits of a number"
   ]
  },
  {
   "cell_type": "code",
   "execution_count": 9,
   "metadata": {},
   "outputs": [
    {
     "name": "stdout",
     "output_type": "stream",
     "text": [
      "Enter the number:1234\n",
      "Sum of digits:10\n"
     ]
    }
   ],
   "source": [
    "n=int(input(\"Enter the number:\"))\n",
    "sum=0\n",
    "while n>0:\n",
    "    sum+=n%10\n",
    "    n//=10\n",
    "print(f\"Sum of digits:{sum}\")"
   ]
  },
  {
   "cell_type": "markdown",
   "metadata": {},
   "source": [
    "## Check for Armstrong Number"
   ]
  },
  {
   "cell_type": "code",
   "execution_count": 13,
   "metadata": {},
   "outputs": [
    {
     "name": "stdout",
     "output_type": "stream",
     "text": [
      "Enter the Number:54748\n",
      "Armstrong Number\n"
     ]
    }
   ],
   "source": [
    "n=int(input(\"Enter the Number:\"))\n",
    "m=n\n",
    "x=n\n",
    "l=0\n",
    "while m>0:\n",
    "    l+=1\n",
    "    m//=10\n",
    "sum=0\n",
    "while n>0:\n",
    "    sum+=(n%10)**l\n",
    "    n//=10\n",
    "if(sum==x):\n",
    "    print(\"Armstrong Number\")\n",
    "else:\n",
    "    print(\"Not Armstrong Number\")"
   ]
  },
  {
   "cell_type": "markdown",
   "metadata": {},
   "source": [
    "## Fibonacci Series Upto N terms"
   ]
  },
  {
   "cell_type": "code",
   "execution_count": 14,
   "metadata": {},
   "outputs": [
    {
     "name": "stdout",
     "output_type": "stream",
     "text": [
      "Enter the N [0-n]:8\n",
      "0 1 1 2 3 5 8 13"
     ]
    }
   ],
   "source": [
    "x=0\n",
    "y=1\n",
    "n=int(input(\"Enter the N [0-n]:\"))\n",
    "if(n==1):\n",
    "    print(x)\n",
    "elif(n>1):    \n",
    "    print(f\"{x} {y}\",end=\"\")\n",
    "    for i in range(2,n):\n",
    "        print(f\" {x+y}\",end=\"\")\n",
    "        x,y=y,x+y\n",
    "else:\n",
    "    print(\"Enter Valid Input!!\")"
   ]
  },
  {
   "cell_type": "markdown",
   "metadata": {},
   "source": [
    "## Check For Prime Number"
   ]
  },
  {
   "cell_type": "code",
   "execution_count": 30,
   "metadata": {},
   "outputs": [
    {
     "name": "stdout",
     "output_type": "stream",
     "text": [
      "Enter N:5\n",
      "5 is a Prime Number\n"
     ]
    }
   ],
   "source": [
    "n=int(input(\"Enter N:\"))\n",
    "c=0\n",
    "for i in range(2,n//2+1):\n",
    "    if n%i==0:\n",
    "        c+=1\n",
    "if c==0:\n",
    "    print(f\"{n} is a Prime Number\")\n",
    "else:\n",
    "    print(f\"{n} is a Composite Number\")"
   ]
  },
  {
   "cell_type": "markdown",
   "metadata": {},
   "source": [
    "## Check for Prime Numbers in a Range"
   ]
  },
  {
   "cell_type": "code",
   "execution_count": 41,
   "metadata": {},
   "outputs": [
    {
     "name": "stdout",
     "output_type": "stream",
     "text": [
      "Enter The Start:2\n",
      "Enter The End:100\n",
      "2 3 5 7 11 13 17 19 23 29 31 37 41 43 47 53 59 61 67 71 73 79 83 89 97 \n",
      "There Are 25 Prime Numbers in Between 2 and 100\n"
     ]
    }
   ],
   "source": [
    "s=int(input(\"Enter The Start:\"))\n",
    "e=int(input(\"Enter The End:\"))\n",
    "p=0\n",
    "if(e<=s):\n",
    "    print(\"Enter Valid Input!!\")\n",
    "else:\n",
    "    for n in range(s,e+1):\n",
    "        c=0\n",
    "        for i in range(2,n//2+1):\n",
    "            if n%i==0:\n",
    "                c+=1\n",
    "        if c==0:\n",
    "            p+=1\n",
    "            print(n,end=\" \")\n",
    "            \n",
    "print(f\"\\nThere Are {p} Prime Numbers in Between {s} and {e}\")"
   ]
  },
  {
   "cell_type": "markdown",
   "metadata": {},
   "source": [
    "# Patterns"
   ]
  },
  {
   "cell_type": "markdown",
   "metadata": {},
   "source": [
    "## Left Right Angle"
   ]
  },
  {
   "cell_type": "code",
   "execution_count": 15,
   "metadata": {},
   "outputs": [
    {
     "name": "stdout",
     "output_type": "stream",
     "text": [
      "Enter N:5\n",
      "* \n",
      "* * \n",
      "* * * \n",
      "* * * * \n",
      "* * * * * \n"
     ]
    }
   ],
   "source": [
    "n=int(input(\"Enter N:\"))\n",
    "for i in range(1,n+1):\n",
    "    print(i*\"* \")"
   ]
  },
  {
   "cell_type": "markdown",
   "metadata": {},
   "source": [
    "### Numbers"
   ]
  },
  {
   "cell_type": "code",
   "execution_count": 16,
   "metadata": {},
   "outputs": [
    {
     "name": "stdout",
     "output_type": "stream",
     "text": [
      "Enter N:5\n",
      "1 \n",
      "1 2 \n",
      "1 2 3 \n",
      "1 2 3 4 \n",
      "1 2 3 4 5 \n"
     ]
    }
   ],
   "source": [
    "n=int(input(\"Enter N:\"))\n",
    "for i in range(1,n+1):\n",
    "    for j in range(1,i+1):\n",
    "        print(j,end=\" \") # Can Also Use i variable but it will print same number in line\n",
    "    print()"
   ]
  },
  {
   "cell_type": "code",
   "execution_count": 6,
   "metadata": {},
   "outputs": [
    {
     "name": "stdout",
     "output_type": "stream",
     "text": [
      "Enter N:5\n",
      "A \n",
      "A B \n",
      "A B C \n",
      "A B C D \n",
      "A B C D E \n"
     ]
    }
   ],
   "source": [
    "n=int(input(\"Enter N:\"))\n",
    "for i in range(1,n+1):\n",
    "    x=65\n",
    "    for j in range(1,i+1):\n",
    "        print(chr(x),end=\" \")\n",
    "        x+=1\n",
    "    print()"
   ]
  },
  {
   "cell_type": "code",
   "execution_count": 8,
   "metadata": {},
   "outputs": [
    {
     "name": "stdout",
     "output_type": "stream",
     "text": [
      "Enter N:5\n",
      "a \n",
      "b c \n",
      "d e f \n",
      "g h i j \n",
      "k l m n o \n"
     ]
    }
   ],
   "source": [
    "n=int(input(\"Enter N:\"))\n",
    "x=97\n",
    "for i in range(1,n+1):\n",
    "    for j in range(1,i+1):\n",
    "        print(chr(x),end=\" \")\n",
    "        x+=1\n",
    "    print()"
   ]
  },
  {
   "cell_type": "code",
   "execution_count": 7,
   "metadata": {},
   "outputs": [
    {
     "name": "stdout",
     "output_type": "stream",
     "text": [
      "Enter N:5\n",
      "1 \n",
      "2 3 \n",
      "4 5 6 \n",
      "7 8 9 10 \n",
      "11 12 13 14 15 \n"
     ]
    }
   ],
   "source": [
    "n=int(input(\"Enter N:\"))\n",
    "x=1\n",
    "for i in range(1,n+1):\n",
    "    for j in range(1,i+1):\n",
    "        print(x,end=\" \")\n",
    "        x+=1\n",
    "    print()"
   ]
  },
  {
   "cell_type": "code",
   "execution_count": 11,
   "metadata": {},
   "outputs": [
    {
     "name": "stdout",
     "output_type": "stream",
     "text": [
      "Enter N:5\n",
      "* \n",
      "# # \n",
      "* * * \n",
      "# # # # \n",
      "* * * * * \n"
     ]
    }
   ],
   "source": [
    "n=int(input(\"Enter N:\"))\n",
    "for i in range(1,n+1):\n",
    "    x=\"*\"\n",
    "    if i%2==0:\n",
    "        x=\"#\"\n",
    "    print(f\"{x} \"*i)"
   ]
  },
  {
   "cell_type": "code",
   "execution_count": 20,
   "metadata": {},
   "outputs": [
    {
     "name": "stdout",
     "output_type": "stream",
     "text": [
      "Enter N:5\n",
      "1 \n",
      "0 1 \n",
      "1 0 1 \n",
      "0 1 0 1 \n",
      "1 0 1 0 1 \n"
     ]
    }
   ],
   "source": [
    "n=int(input(\"Enter N:\"))\n",
    "for i in range(1,n+1):\n",
    "    for j in range(1,i+1):\n",
    "        print((i+j+1)%2,end=\" \")\n",
    "    print()"
   ]
  },
  {
   "cell_type": "markdown",
   "metadata": {},
   "source": [
    "## Left Desceneding Right Angle "
   ]
  },
  {
   "cell_type": "code",
   "execution_count": 22,
   "metadata": {},
   "outputs": [
    {
     "name": "stdout",
     "output_type": "stream",
     "text": [
      "Enter The Number:5\n",
      "1 0 1 0 1 \n",
      "0 1 0 1 \n",
      "1 0 1 \n",
      "0 1 \n",
      "1 \n"
     ]
    }
   ],
   "source": [
    "n=int(input(\"Enter The Number:\"))\n",
    "for i in range(1,n+1):\n",
    "    for j in range(1,n+2-i):\n",
    "        print((i+j+1)%2,end=\" \")\n",
    "    print()"
   ]
  },
  {
   "cell_type": "code",
   "execution_count": 30,
   "metadata": {},
   "outputs": [
    {
     "name": "stdout",
     "output_type": "stream",
     "text": [
      "Enter The Number:5\n",
      "* * * * * \n",
      " * * * * \n",
      "  * * * \n",
      "   * * \n",
      "    * \n"
     ]
    }
   ],
   "source": [
    "n=int(input(\"Enter The Number:\"))\n",
    "for i in range(1,n+1):\n",
    "    for k in range(1,i):\n",
    "        print(\" \",end=\"\")\n",
    "    for j in range(i,n+1):\n",
    "        print(\"*\",end=\" \")\n",
    "    print()"
   ]
  },
  {
   "cell_type": "markdown",
   "metadata": {},
   "source": [
    "## RIght Angle "
   ]
  },
  {
   "cell_type": "code",
   "execution_count": 36,
   "metadata": {},
   "outputs": [
    {
     "name": "stdout",
     "output_type": "stream",
     "text": [
      "Enter The Number:5\n",
      "    *\n",
      "   **\n",
      "  ***\n",
      " ****\n",
      "*****\n"
     ]
    }
   ],
   "source": [
    "n=int(input(\"Enter The Number:\"))\n",
    "for i in range(1,n+1):\n",
    "    for k in range(1,n-i+1):\n",
    "        print(\" \",end=\"\")\n",
    "    for j in range(1,i+1):\n",
    "        print(\"*\",end=\"\")\n",
    "    print()"
   ]
  },
  {
   "cell_type": "markdown",
   "metadata": {},
   "source": [
    "## Task"
   ]
  },
  {
   "cell_type": "code",
   "execution_count": 39,
   "metadata": {},
   "outputs": [
    {
     "name": "stdout",
     "output_type": "stream",
     "text": [
      "Enter N:5\n",
      "1 \n",
      "A B \n",
      "1 2 3 \n",
      "A B C D \n",
      "1 2 3 4 5 \n"
     ]
    }
   ],
   "source": [
    "n=int(input(\"Enter N:\"))\n",
    "for i in range(1,n+1):\n",
    "    for j in range(1,1+i):\n",
    "        if i%2==1:\n",
    "            print(j,end=\" \")\n",
    "        else:\n",
    "            print(chr(64+j),end=\" \")\n",
    "    print()"
   ]
  },
  {
   "cell_type": "markdown",
   "metadata": {},
   "source": [
    "## Exponent Question"
   ]
  },
  {
   "cell_type": "code",
   "execution_count": 8,
   "metadata": {},
   "outputs": [
    {
     "name": "stdout",
     "output_type": "stream",
     "text": [
      "Enter The Base Number:3\n",
      "Enter The Value:81\n",
      "4\n"
     ]
    }
   ],
   "source": [
    "a=int(input(\"Enter The Base Number:\"))\n",
    "n=int(input(\"Enter The Value:\"))\n",
    "m=1\n",
    "x=0\n",
    "while m<n:\n",
    "    x+=1\n",
    "    m*=a\n",
    "print(x)"
   ]
  }
 ],
 "metadata": {
  "kernelspec": {
   "display_name": "Python 3",
   "language": "python",
   "name": "python3"
  },
  "language_info": {
   "codemirror_mode": {
    "name": "ipython",
    "version": 3
   },
   "file_extension": ".py",
   "mimetype": "text/x-python",
   "name": "python",
   "nbconvert_exporter": "python",
   "pygments_lexer": "ipython3",
   "version": "3.8.5"
  }
 },
 "nbformat": 4,
 "nbformat_minor": 4
}
