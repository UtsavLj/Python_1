{
 "cells": [
  {
   "cell_type": "markdown",
   "metadata": {},
   "source": [
    "## Comparing 3 Numbers"
   ]
  },
  {
   "cell_type": "code",
   "execution_count": 2,
   "metadata": {},
   "outputs": [
    {
     "name": "stdout",
     "output_type": "stream",
     "text": [
      "Enter Number for A:121\n",
      "Enter Number for B:234\n",
      "Enter Number for C:24\n",
      "B is Greatest\n"
     ]
    }
   ],
   "source": [
    "a=int(input(\"Enter Number for A:\"))\n",
    "b=int(input(\"Enter Number for B:\"))\n",
    "c=int(input(\"Enter Number for C:\"))\n",
    "if a>b and a>c:\n",
    "    print(\"A is Greatest\")\n",
    "\n",
    "# The above Statement not being run implies \n",
    "# that a is not greater than either b or c \n",
    "# so to check for b we only need to check b>c\n",
    "\n",
    "elif b>c:\n",
    "    print(\"B is Greatest\")\n",
    "\n",
    "else:\n",
    "    print(\"C is Greatest\")"
   ]
  },
  {
   "cell_type": "markdown",
   "metadata": {},
   "source": [
    "## Leap Year or Not\n"
   ]
  },
  {
   "cell_type": "code",
   "execution_count": 3,
   "metadata": {},
   "outputs": [
    {
     "name": "stdout",
     "output_type": "stream",
     "text": [
      "Enter the year:1237\n",
      "Not a Leap Year\n"
     ]
    }
   ],
   "source": [
    "y=int(input(\"Enter the year:\"))\n",
    "# The Conditions for a leap year is it is divisible by 4 \n",
    "# except if it is centuries end (100's multiple) than check for divisible by 400.\n",
    "if (y%4==0 and y%100!=0) or y%400==0:\n",
    "    print(\"Leap Year\")\n",
    "else:\n",
    "    print(\"Not a Leap Year\")"
   ]
  },
  {
   "cell_type": "markdown",
   "metadata": {},
   "source": [
    "## Arithmetic Operation by Choice"
   ]
  },
  {
   "cell_type": "code",
   "execution_count": 8,
   "metadata": {},
   "outputs": [
    {
     "name": "stdout",
     "output_type": "stream",
     "text": [
      "Enter the Number A:12\n",
      "Enter the Number B:23\n",
      "Enter the operator sign:\n",
      "[1]Add(+) \n",
      "[2]Subtract(-) \n",
      "[3]Multiply(*)\n",
      "[4]Divide(/) \n",
      "[5]Modulo(%) \n",
      "[6]Floor Division(//) \n",
      "[7]Power(**)\n",
      "Sign:%\n",
      "12 % 23 = 12\n"
     ]
    }
   ],
   "source": [
    "a=int(input(\"Enter the Number A:\"))\n",
    "b=int(input(\"Enter the Number B:\"))\n",
    "o=input(\"\"\"Enter the operator sign:\\n[1]Add(+) \\n[2]Subtract(-) \\n[3]Multiply(*)\n",
    "[4]Divide(/) \\n[5]Modulo(%) \\n[6]Floor Division(//) \\n[7]Power(**)\\nSign:\"\"\")\n",
    "if(o==\"+\"):\n",
    "    r=a+b\n",
    "elif(o==\"-\"):\n",
    "    r=a-b\n",
    "elif(o==\"*\"):\n",
    "    r=a*b\n",
    "elif(o==\"/\" and b!=0):\n",
    "    r=a/b\n",
    "elif(o==\"%\"):\n",
    "    r=a%b\n",
    "elif(o==\"//\"):\n",
    "    r=a//b\n",
    "elif(o==\"**\"):\n",
    "    r=a**b\n",
    "else:\n",
    "    r=None\n",
    "\n",
    "if r!=None:\n",
    "    print(f\"{a} {o} {b} = {r}\")\n",
    "else:\n",
    "    print(\"Invalid Input!\")"
   ]
  },
  {
   "cell_type": "markdown",
   "metadata": {},
   "source": [
    "## Percentage and Grade of a Student"
   ]
  },
  {
   "cell_type": "code",
   "execution_count": 11,
   "metadata": {},
   "outputs": [
    {
     "name": "stdout",
     "output_type": "stream",
     "text": [
      "Enter the marks of Maths out of 100:99\n",
      "Enter the marks of Python out of 100:98\n",
      "Enter the marks of English out of 100:99\n",
      "You Have Passed with Distiction Grade\n"
     ]
    }
   ],
   "source": [
    "a=float(input(\"Enter the marks of Maths out of 100:\"))\n",
    "b=float(input(\"Enter the marks of Python out of 100:\"))\n",
    "c=float(input(\"Enter the marks of English out of 100:\"))\n",
    "p=(a+b+c)/3\n",
    "\n",
    "if(p<=100 and p>=80):\n",
    "    g=\"Distiction\"\n",
    "elif(p<80 and p>=60):\n",
    "    g=\"First Class\"\n",
    "elif(p<60 and p>=35):\n",
    "    g=\"Second Class\"\n",
    "else:\n",
    "    g=\"Fail\"\n",
    "\n",
    "if g==\"Fail\":\n",
    "    print(\"You Failed!!\")\n",
    "else:\n",
    "    print(f\"You Have Passed with {g} Grade\")"
   ]
  },
  {
   "cell_type": "markdown",
   "metadata": {},
   "source": [
    "## Last digit of a number is divisible by 3"
   ]
  },
  {
   "cell_type": "code",
   "execution_count": 13,
   "metadata": {},
   "outputs": [
    {
     "name": "stdout",
     "output_type": "stream",
     "text": [
      "Enter the number:2356\n",
      "6 is divisible by 3\n"
     ]
    }
   ],
   "source": [
    "x=int(input(\"Enter the number:\"))%10\n",
    "if x%3==0:\n",
    "    print(f\"{x} is divisible by 3\")\n",
    "else:\n",
    "    print(f\"{x} is not divisible by 3\")"
   ]
  },
  {
   "cell_type": "markdown",
   "metadata": {},
   "source": [
    "## Electricity Bill"
   ]
  },
  {
   "cell_type": "code",
   "execution_count": 20,
   "metadata": {},
   "outputs": [
    {
     "name": "stdout",
     "output_type": "stream",
     "text": [
      "Enter the Units:3500\n",
      "Your Bill is 33500$\n"
     ]
    }
   ],
   "source": [
    "u=int(input(\"Enter the Units:\"))\n",
    "r=0\n",
    "if u>100:\n",
    "    n=u-100\n",
    "    if n>100:\n",
    "        r+=500\n",
    "    else:\n",
    "        r+=n*5\n",
    "if u>200:\n",
    "    n=u-200\n",
    "    r+=n*10\n",
    "print(f\"Your Bill is {r}$\")"
   ]
  },
  {
   "cell_type": "markdown",
   "metadata": {},
   "source": [
    "## Cost Price and Road tax to get Total price"
   ]
  },
  {
   "cell_type": "code",
   "execution_count": 26,
   "metadata": {},
   "outputs": [
    {
     "name": "stdout",
     "output_type": "stream",
     "text": [
      "Enter the Price:60000\n",
      "Cost Price:60000$\n",
      "Road Tax:6000.0$ (10%)\n",
      "Total Price is 66000.0$\n"
     ]
    }
   ],
   "source": [
    "c=int(input(\"Enter the Price:\"))\n",
    "if c>100000:\n",
    "    t=15\n",
    "elif c>50000:\n",
    "    t=10\n",
    "else:\n",
    "    t=5\n",
    "print(f\"Cost Price:{c}$\\nRoad Tax:{c*(t/100)}$ ({t}%)\\nTotal Price is {c+c*(t/100)}$\")"
   ]
  },
  {
   "cell_type": "markdown",
   "metadata": {},
   "source": [
    "## Length of a Number"
   ]
  },
  {
   "cell_type": "code",
   "execution_count": 30,
   "metadata": {},
   "outputs": [
    {
     "name": "stdout",
     "output_type": "stream",
     "text": [
      "Enter the number:12345\n",
      "Length:5\n"
     ]
    }
   ],
   "source": [
    "n=int(input(\"Enter the number:\"))\n",
    "c=0\n",
    "while n>0:\n",
    "    c+=1\n",
    "    n//=10\n",
    "print(f\"Length:{c}\")"
   ]
  },
  {
   "cell_type": "markdown",
   "metadata": {},
   "source": [
    "## Length is 3 or not if the number is 3 digit display the middle digit "
   ]
  },
  {
   "cell_type": "code",
   "execution_count": 45,
   "metadata": {},
   "outputs": [
    {
     "name": "stdout",
     "output_type": "stream",
     "text": [
      "Enter the number:123\n",
      "Middle Digit is 2\n"
     ]
    }
   ],
   "source": [
    "n=int(input(\"Enter the number:\"))\n",
    "m=n%100//10 # Finding the last second digit \n",
    "c=0\n",
    "while n>0:\n",
    "    c+=1\n",
    "    n//=10\n",
    "s=f\"Middle Digit is {m}\" if c==3 else \"Enter 3 Digit Number only\"\n",
    "print(s)"
   ]
  },
  {
   "cell_type": "markdown",
   "metadata": {},
   "source": [
    "## Attendance Remark"
   ]
  },
  {
   "cell_type": "code",
   "execution_count": 50,
   "metadata": {},
   "outputs": [
    {
     "name": "stdout",
     "output_type": "stream",
     "text": [
      "Enter The Total Number of Working Days:100\n",
      "Enter The Days Of Absent:20\n",
      "Eligible for Exams\n"
     ]
    }
   ],
   "source": [
    "w=int(input(\"Enter The Total Number of Working Days:\"))\n",
    "a=int(input(\"Enter The Days Of Absent:\"))\n",
    "p=(w-a)*100/w\n",
    "if p>=75.0:\n",
    "    print(\"Eligible for Exams\")\n",
    "else:\n",
    "    print(\"Not ELigible for Exams\")"
   ]
  }
 ],
 "metadata": {
  "kernelspec": {
   "display_name": "Python 3",
   "language": "python",
   "name": "python3"
  },
  "language_info": {
   "codemirror_mode": {
    "name": "ipython",
    "version": 3
   },
   "file_extension": ".py",
   "mimetype": "text/x-python",
   "name": "python",
   "nbconvert_exporter": "python",
   "pygments_lexer": "ipython3",
   "version": "3.8.5"
  }
 },
 "nbformat": 4,
 "nbformat_minor": 4
}
