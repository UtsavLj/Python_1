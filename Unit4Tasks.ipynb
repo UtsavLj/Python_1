{
 "cells": [
  {
   "cell_type": "markdown",
   "metadata": {},
   "source": [
    "# Immutable Data Structures"
   ]
  },
  {
   "cell_type": "markdown",
   "metadata": {},
   "source": [
    "## String Tasks"
   ]
  },
  {
   "cell_type": "markdown",
   "metadata": {},
   "source": [
    "### Number of Lower And Upper Case"
   ]
  },
  {
   "cell_type": "code",
   "execution_count": 5,
   "metadata": {},
   "outputs": [
    {
     "name": "stdout",
     "output_type": "stream",
     "text": [
      "Enter A sentence with mixed Cases:Utsav Hirani nWill Be ZTherwe\n",
      "6 UpperCase\n",
      "19 Lowercase\n",
      "4 Spaces\n",
      "29\n"
     ]
    }
   ],
   "source": [
    "st=input(\"Enter A sentence with mixed Cases:\")\n",
    "l=0\n",
    "u=0\n",
    "s=0\n",
    "for i in st:\n",
    "    if i.islower():\n",
    "        l+=1\n",
    "    elif i.isupper():\n",
    "        u+=1\n",
    "    elif i.isspace():\n",
    "        s+=1\n",
    "print(f\"{u} UpperCase\\n{l} Lowercase\\n{s} Spaces\\n{len(st)}\")"
   ]
  },
  {
   "cell_type": "markdown",
   "metadata": {},
   "source": [
    "### Remove i'th Char from a String"
   ]
  },
  {
   "cell_type": "code",
   "execution_count": 4,
   "metadata": {},
   "outputs": [
    {
     "name": "stdout",
     "output_type": "stream",
     "text": [
      "Enter the String:Utsav Hirani\n",
      "Enter The Index:11\n",
      "Utsav Hiran\n"
     ]
    }
   ],
   "source": [
    "s=input(\"Enter the String:\")\n",
    "n=int(input(\"Enter The Index:\"))\n",
    "s1=\"\"\n",
    "for i,j in enumerate(s):\n",
    "    if i==n:\n",
    "        continue\n",
    "    s1+=j\n",
    "print(s1)"
   ]
  },
  {
   "cell_type": "code",
   "execution_count": 12,
   "metadata": {},
   "outputs": [
    {
     "name": "stdout",
     "output_type": "stream",
     "text": [
      "Enter the String:abcde\n",
      "Enter The Index:3\n",
      "abce\n"
     ]
    }
   ],
   "source": [
    "s=input(\"Enter the String:\")\n",
    "n=int(input(\"Enter The Index:\"))\n",
    "if n<len(s):\n",
    "    if n==len(s)-1:\n",
    "        s=s[n]\n",
    "    else:\n",
    "        s=s[:n]+s[n+1:]\n",
    "print(s)"
   ]
  },
  {
   "cell_type": "markdown",
   "metadata": {},
   "source": [
    "### Count digits,alphabets,special characters,spaces in a string"
   ]
  },
  {
   "cell_type": "code",
   "execution_count": 13,
   "metadata": {},
   "outputs": [
    {
     "name": "stdout",
     "output_type": "stream",
     "text": [
      "Enter A sentence with mixed Cases:uBF  OIUARN& i4312 ,Y(*\n",
      "Letters:11\n",
      "Digits:4\n",
      "Special Characters:4\n",
      "Spaces:4\n"
     ]
    }
   ],
   "source": [
    "st=input(\"Enter A sentence with mixed Cases:\")\n",
    "l=0\n",
    "d=0\n",
    "sp=0\n",
    "s=0\n",
    "for i in st:\n",
    "    if i.isdigit():\n",
    "        d+=1\n",
    "    elif i.isalpha():\n",
    "        l+=1\n",
    "    elif i.isspace():\n",
    "        s+=1\n",
    "    else:\n",
    "        sp+=1\n",
    "print(f\"Letters:{l}\\nDigits:{d}\\nSpecial Characters:{sp}\\nSpaces:{s}\")"
   ]
  }
 ],
 "metadata": {
  "kernelspec": {
   "display_name": "Python 3",
   "language": "python",
   "name": "python3"
  },
  "language_info": {
   "codemirror_mode": {
    "name": "ipython",
    "version": 3
   },
   "file_extension": ".py",
   "mimetype": "text/x-python",
   "name": "python",
   "nbconvert_exporter": "python",
   "pygments_lexer": "ipython3",
   "version": "3.8.5"
  }
 },
 "nbformat": 4,
 "nbformat_minor": 4
}
