{
 "cells": [
  {
   "cell_type": "markdown",
   "metadata": {},
   "source": [
    "# Functions"
   ]
  },
  {
   "cell_type": "markdown",
   "metadata": {},
   "source": [
    "## Sum of Two Numbers"
   ]
  },
  {
   "cell_type": "code",
   "execution_count": 2,
   "metadata": {},
   "outputs": [
    {
     "name": "stdout",
     "output_type": "stream",
     "text": [
      "Enter a:45\n",
      "Enter b:23\n",
      "68\n"
     ]
    }
   ],
   "source": [
    "def add(a,b):\n",
    "    return a+b\n",
    "a=int(input(\"Enter a:\"))\n",
    "b=int(input(\"Enter b:\"))\n",
    "print(add(a,b))"
   ]
  },
  {
   "cell_type": "markdown",
   "metadata": {},
   "source": [
    "## Print Odds upto N"
   ]
  },
  {
   "cell_type": "code",
   "execution_count": 3,
   "metadata": {},
   "outputs": [
    {
     "name": "stdout",
     "output_type": "stream",
     "text": [
      "3 5 7 9 11 13 "
     ]
    }
   ],
   "source": [
    "def Odds(n:int):\n",
    "    for i in range(2,n):\n",
    "        if i%2!=0:\n",
    "            print(i,end=\" \")\n",
    "Odds(15)"
   ]
  },
  {
   "cell_type": "markdown",
   "metadata": {},
   "source": [
    "## Simple Calculator"
   ]
  },
  {
   "cell_type": "code",
   "execution_count": 1,
   "metadata": {},
   "outputs": [
    {
     "name": "stdout",
     "output_type": "stream",
     "text": [
      "\n",
      "Calculator\n",
      "Enter A:12\n",
      "Enter B:4\n",
      "[1]Add\n",
      "[2]Subtract\n",
      "[3]Multiply\n",
      "[4]Divide\n",
      "[5]Modulo\n",
      "[6]Floor Divide\n",
      "[7]Exponent\n",
      "Enter Operator:2\n",
      "Result=8\n",
      "[1]Continue [0]Exit :0\n"
     ]
    }
   ],
   "source": [
    "def Calc():\n",
    "    flag=1\n",
    "    while(flag):\n",
    "        print(\"\\nCalculator\")\n",
    "        a=int(input(\"Enter A:\"))\n",
    "        b=int(input(\"Enter B:\"))\n",
    "        o=int(input(\"[1]Add\\n[2]Subtract\\n[3]Multiply\\n[4]Divide\\n[5]Modulo\\n[6]Floor Divide\\n[7]Exponent\\nEnter Operator:\"))\n",
    "        r=0\n",
    "        if(o==1):\n",
    "            r=a+b\n",
    "        elif(o==2):\n",
    "            r=a-b\n",
    "        elif(o==3):\n",
    "            r=a*b\n",
    "        elif(o==4 and b!=0):\n",
    "            r=a/b\n",
    "        elif(o==5):\n",
    "            r=a%b\n",
    "        elif(o==6):\n",
    "            r=a//b\n",
    "        elif(o==7):\n",
    "            r=a**b\n",
    "        else:\n",
    "            print(\"Error Due to Invalid Input!!\")\n",
    "        print(f\"Result={r}\")\n",
    "        flag=int(input(\"[1]Continue [0]Exit :\"))\n",
    "\n",
    "Calc()\n",
    "        "
   ]
  },
  {
   "cell_type": "markdown",
   "metadata": {},
   "source": [
    "## NumRange"
   ]
  },
  {
   "cell_type": "code",
   "execution_count": 3,
   "metadata": {},
   "outputs": [
    {
     "name": "stdout",
     "output_type": "stream",
     "text": [
      "Enter N:45\n",
      "Enter Start Range:21\n",
      "Enter End Range:50\n",
      "Yes\n"
     ]
    }
   ],
   "source": [
    "def numrange(n,s,e):\n",
    "    if(s<n<e):\n",
    "        return \"Yes\"\n",
    "    else:\n",
    "        return \"No\"\n",
    "n=int(input(\"Enter N:\"))\n",
    "s=int(input(\"Enter Start Range:\"))\n",
    "e=int(input(\"Enter End Range:\"))\n",
    "print(numrange(n,s,e))"
   ]
  },
  {
   "cell_type": "markdown",
   "metadata": {},
   "source": []
  }
 ],
 "metadata": {
  "kernelspec": {
   "display_name": "Python 3",
   "language": "python",
   "name": "python3"
  },
  "language_info": {
   "codemirror_mode": {
    "name": "ipython",
    "version": 3
   },
   "file_extension": ".py",
   "mimetype": "text/x-python",
   "name": "python",
   "nbconvert_exporter": "python",
   "pygments_lexer": "ipython3",
   "version": "3.8.5"
  }
 },
 "nbformat": 4,
 "nbformat_minor": 4
}
