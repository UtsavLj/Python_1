{
 "cells": [
  {
   "cell_type": "markdown",
   "metadata": {},
   "source": [
    "# Functions"
   ]
  },
  {
   "cell_type": "markdown",
   "metadata": {},
   "source": [
    "## Sum of Two Numbers"
   ]
  },
  {
   "cell_type": "code",
   "execution_count": 2,
   "metadata": {},
   "outputs": [
    {
     "name": "stdout",
     "output_type": "stream",
     "text": [
      "Enter a:45\n",
      "Enter b:23\n",
      "68\n"
     ]
    }
   ],
   "source": [
    "def add(a,b):\n",
    "    return a+b\n",
    "a=int(input(\"Enter a:\"))\n",
    "b=int(input(\"Enter b:\"))\n",
    "print(add(a,b))"
   ]
  },
  {
   "cell_type": "markdown",
   "metadata": {},
   "source": [
    "## Print Odds upto N"
   ]
  },
  {
   "cell_type": "code",
   "execution_count": 3,
   "metadata": {},
   "outputs": [
    {
     "name": "stdout",
     "output_type": "stream",
     "text": [
      "3 5 7 9 11 13 "
     ]
    }
   ],
   "source": [
    "def Odds(n:int):\n",
    "    for i in range(2,n):\n",
    "        if i%2!=0:\n",
    "            print(i,end=\" \")\n",
    "Odds(15)"
   ]
  },
  {
   "cell_type": "markdown",
   "metadata": {},
   "source": [
    "## Simple Calculator"
   ]
  },
  {
   "cell_type": "code",
   "execution_count": 1,
   "metadata": {},
   "outputs": [
    {
     "name": "stdout",
     "output_type": "stream",
     "text": [
      "\n",
      "Calculator\n",
      "Enter A:12\n",
      "Enter B:4\n",
      "[1]Add\n",
      "[2]Subtract\n",
      "[3]Multiply\n",
      "[4]Divide\n",
      "[5]Modulo\n",
      "[6]Floor Divide\n",
      "[7]Exponent\n",
      "Enter Operator:2\n",
      "Result=8\n",
      "[1]Continue [0]Exit :0\n"
     ]
    }
   ],
   "source": [
    "def Calc():\n",
    "    flag=1\n",
    "    while(flag):\n",
    "        print(\"\\nCalculator\")\n",
    "        a=int(input(\"Enter A:\"))\n",
    "        b=int(input(\"Enter B:\"))\n",
    "        o=int(input(\"[1]Add\\n[2]Subtract\\n[3]Multiply\\n[4]Divide\\n[5]Modulo\\n[6]Floor Divide\\n[7]Exponent\\nEnter Operator:\"))\n",
    "        r=0\n",
    "        if(o==1):\n",
    "            r=a+b\n",
    "        elif(o==2):\n",
    "            r=a-b\n",
    "        elif(o==3):\n",
    "            r=a*b\n",
    "        elif(o==4 and b!=0):\n",
    "            r=a/b\n",
    "        elif(o==5):\n",
    "            r=a%b\n",
    "        elif(o==6):\n",
    "            r=a//b\n",
    "        elif(o==7):\n",
    "            r=a**b\n",
    "        else:\n",
    "            print(\"Error Due to Invalid Input!!\")\n",
    "        print(f\"Result={r}\")\n",
    "        flag=int(input(\"[1]Continue [0]Exit :\"))\n",
    "\n",
    "Calc()\n",
    "        "
   ]
  },
  {
   "cell_type": "markdown",
   "metadata": {},
   "source": [
    "## NumRange"
   ]
  },
  {
   "cell_type": "code",
   "execution_count": 3,
   "metadata": {},
   "outputs": [
    {
     "name": "stdout",
     "output_type": "stream",
     "text": [
      "Enter N:45\n",
      "Enter Start Range:21\n",
      "Enter End Range:50\n",
      "Yes\n"
     ]
    }
   ],
   "source": [
    "def numrange(n,s,e):\n",
    "    if(s<n<e):\n",
    "        return \"Yes\"\n",
    "    else:\n",
    "        return \"No\"\n",
    "n=int(input(\"Enter N:\"))\n",
    "s=int(input(\"Enter Start Range:\"))\n",
    "e=int(input(\"Enter End Range:\"))\n",
    "print(numrange(n,s,e))"
   ]
  },
  {
   "cell_type": "markdown",
   "metadata": {},
   "source": [
    "## Happy Number or Not"
   ]
  },
  {
   "cell_type": "code",
   "execution_count": 4,
   "metadata": {},
   "outputs": [
    {
     "name": "stdout",
     "output_type": "stream",
     "text": [
      "Happy Numbers from 1 to 100:\n",
      "1 7 10 13 19 23 28 31 32 44 49 68 70 79 82 86 91 94 97 "
     ]
    }
   ],
   "source": [
    "def Check_Happy(n):\n",
    "    x=n\n",
    "    while(x!=1 and x!=4):\n",
    "        sum=0\n",
    "        while(x>0):\n",
    "            sum+=(x%10)**2\n",
    "            x//=10\n",
    "        x=sum\n",
    "    else:\n",
    "        if x==1:\n",
    "            print(n,end=\" \")\n",
    "    \n",
    "print(f\"Happy Numbers from 1 to 100:\")\n",
    "for i in range(1,100):\n",
    "    Check_Happy(i)"
   ]
  },
  {
   "cell_type": "markdown",
   "metadata": {},
   "source": [
    "## Disarium Number or not"
   ]
  },
  {
   "cell_type": "code",
   "execution_count": 6,
   "metadata": {},
   "outputs": [
    {
     "name": "stdout",
     "output_type": "stream",
     "text": [
      "Enter the Number:175\n",
      "175 is a Disarium Number\n"
     ]
    }
   ],
   "source": [
    "n=int(input(\"Enter the Number:\"))\n",
    "x=n\n",
    "sum=0\n",
    "c=len(str(n))\n",
    "while(x>0):\n",
    "    sum+=(x%10)**c\n",
    "    x//=10\n",
    "    c-=1\n",
    "if sum==n:\n",
    "    print(f\"{n} is a Disarium Number\")\n",
    "else:\n",
    "    print(f\"{n} is not a Disarium Number\")"
   ]
  },
  {
   "cell_type": "markdown",
   "metadata": {},
   "source": [
    "## Income Tax  Calculator"
   ]
  },
  {
   "cell_type": "code",
   "execution_count": 26,
   "metadata": {},
   "outputs": [
    {
     "name": "stdout",
     "output_type": "stream",
     "text": [
      "Enter Your Grade Level[A,B,C,D,E,F]:A\n",
      "Enter Tier Class Of your City[1,2,3]:1\n",
      "Monthly Income:110100.0(60000+18000.0+30000.0+8000+900-200-6600.0)\n",
      "Annual Income:1321200.0\n",
      "Income Tax:142800.0\n",
      "Total Income:1178400.0\n"
     ]
    }
   ],
   "source": [
    "grade=input(\"Enter Your Grade Level[A,B,C,D,E,F]:\")\n",
    "flag=1\n",
    "if grade==\"A\":\n",
    "    bp,oa=60000,8000\n",
    "elif grade==\"B\":\n",
    "    bp,oa=50000,7000\n",
    "elif grade==\"C\":\n",
    "    bp,oa=40000,6000\n",
    "elif grade==\"D\":\n",
    "    bp,oa=30000,5000\n",
    "elif grade==\"E\":\n",
    "    bp,oa=20000,4000\n",
    "elif grade==\"F\":\n",
    "    bp,oa=10000,3000\n",
    "else:\n",
    "    print(\"Enter Valid Grade Class!\")\n",
    "    flag=0\n",
    "if flag:\n",
    "    city=int(input(\"Enter Tier Class Of your City[1,2,3]:\"))\n",
    "    if city==1:\n",
    "        hra=bp*0.3\n",
    "    elif city==2:\n",
    "        hra=bp*0.2\n",
    "    elif city==3:\n",
    "        hra=bp*0.1\n",
    "    else:\n",
    "        print(\"Enter Valid Tier Class!\")\n",
    "        flag=0\n",
    "    if flag:\n",
    "        ta,pt,da,pf=900,200,bp*.5,bp*.11\n",
    "        gp=bp+hra+da+oa+ta-pt-pf\n",
    "        ap=gp*12\n",
    "        if(0<ap<=250000):\n",
    "            it=ap\n",
    "        elif(250000<ap<=500000):\n",
    "            it=(ap-250000)*.05\n",
    "        elif(500000<ap<=750000):\n",
    "            it=(ap-500000)*.1+12500\n",
    "        elif(750000<ap<=1000000):\n",
    "            it=(ap-750000)*.15+37500\n",
    "        elif(1000000<ap<=1250000):\n",
    "            it=(ap-1000000)*.2+75000\n",
    "        elif(1250000<ap<=1500000):\n",
    "            it=(ap-1250000)*.25+125000\n",
    "        else:\n",
    "            it=(ap-1500000)*.3+187500\n",
    "        print(f\"Monthly Income:{gp}({bp}+{hra}+{da}+{oa}+{ta}-{pt}-{pf})\")        \n",
    "        print(f\"Annual Income:{ap}\\nIncome Tax:{it}\\nTotal Income:{ap-it}\")\n"
   ]
  },
  {
   "cell_type": "markdown",
   "metadata": {},
   "source": [
    "## Next Date"
   ]
  },
  {
   "cell_type": "code",
   "execution_count": 1,
   "metadata": {},
   "outputs": [
    {
     "name": "stdin",
     "output_type": "stream",
     "text": [
      "Enter the Year: 2024\n",
      "Enter the Month[1-12]: 2\n",
      "Enter the Day[1-31]: 12\n"
     ]
    },
    {
     "name": "stdout",
     "output_type": "stream",
     "text": [
      "Next Date:2024-2-13\n"
     ]
    }
   ],
   "source": [
    "year=int(input(\"Enter the Year:\"))\n",
    "month=int(input(\"Enter the Month[1-12]:\"))\n",
    "day=int(input(\"Enter the Day[1-31]:\"))\n",
    "dim=(0,31,28,31,30,31,30,31,31,30,31,30,31)\n",
    "md=0\n",
    "leap_year=0\n",
    "if month==2:\n",
    "    if year%4==0 and year%100!=0 or year%400==0:\n",
    "        md=1\n",
    "md+=dim[month]\n",
    "if(year>0 and 0<month<=12 and 0<day<=md):\n",
    "    if day+1>md:\n",
    "        day=1\n",
    "        month+=1\n",
    "        if month>12:\n",
    "            month=1\n",
    "            year+=1\n",
    "    else:\n",
    "        day+=1\n",
    "    print(f\"Next Date:{year}-{month}-{day}\")\n",
    "else:\n",
    "    print(\"Enter Valid Date!!\")"
   ]
  },
  {
   "cell_type": "markdown",
   "metadata": {},
   "source": [
    "## Last Day Practice"
   ]
  },
  {
   "cell_type": "code",
   "execution_count": 2,
   "metadata": {},
   "outputs": [
    {
     "name": "stdin",
     "output_type": "stream",
     "text": [
      "Enter The Number: 9\n"
     ]
    },
    {
     "name": "stdout",
     "output_type": "stream",
     "text": [
      "*               * \n",
      "* *           * * \n",
      "* * *       * * * \n",
      "* * * *   * * * * \n",
      "* * * * * * * * * \n",
      "* * * *   * * * * \n",
      "* * *       * * * \n",
      "* *           * * \n",
      "*               * \n"
     ]
    }
   ],
   "source": [
    "n=int(input(\"Enter The Number:\"))\n",
    "c=1\n",
    "for i in range(1,n+1):\n",
    "    for j in range(1,n+1):\n",
    "        if(j<=c or n-j<c):\n",
    "            print(\"*\",end=\" \")\n",
    "        else:\n",
    "            print(\" \",end=\" \")\n",
    "    if i>n//2:\n",
    "        c-=1\n",
    "    else:\n",
    "        c+=1\n",
    "    print()"
   ]
  },
  {
   "cell_type": "markdown",
   "metadata": {},
   "source": [
    "## Next Date Easy Way"
   ]
  },
  {
   "cell_type": "code",
   "execution_count": null,
   "metadata": {},
   "outputs": [],
   "source": [
    "d="
   ]
  }
 ],
 "metadata": {
  "kernelspec": {
   "display_name": "Python 3 (ipykernel)",
   "language": "python",
   "name": "python3"
  },
  "language_info": {
   "codemirror_mode": {
    "name": "ipython",
    "version": 3
   },
   "file_extension": ".py",
   "mimetype": "text/x-python",
   "name": "python",
   "nbconvert_exporter": "python",
   "pygments_lexer": "ipython3",
   "version": "3.12.4"
  }
 },
 "nbformat": 4,
 "nbformat_minor": 4
}
