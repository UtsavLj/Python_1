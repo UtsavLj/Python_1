{
 "cells": [
  {
   "cell_type": "markdown",
   "metadata": {},
   "source": [
    "# File Operations"
   ]
  },
  {
   "cell_type": "markdown",
   "metadata": {},
   "source": [
    "## Copy a Files data to other"
   ]
  },
  {
   "cell_type": "code",
   "execution_count": 5,
   "metadata": {},
   "outputs": [],
   "source": [
    "f=open(\"test\",\"r\")\n",
    "f1=open(\"test1\",\"w\")\n",
    "data=f.read()\n",
    "f1.write(data.upper())\n",
    "f.close()\n",
    "f1.close()"
   ]
  },
  {
   "cell_type": "markdown",
   "metadata": {},
   "source": [
    "## Write a dict in fle"
   ]
  },
  {
   "cell_type": "code",
   "execution_count": 6,
   "metadata": {},
   "outputs": [],
   "source": [
    "d={\"Name\":\"ALice\",\"Age\":21,\"Degree\":\"CSE\",\"University\":\"LJU\"}\n",
    "with open(\"test\",\"w\") as f:\n",
    "    for k,v in d.items():\n",
    "        f.write(f\"{k}:{v}\\n\")"
   ]
  },
  {
   "cell_type": "markdown",
   "metadata": {},
   "source": [
    "## Reverse the content of a file and store it in another file"
   ]
  },
  {
   "cell_type": "code",
   "execution_count": 7,
   "metadata": {},
   "outputs": [],
   "source": [
    "f=open(\"test\",\"r\")\n",
    "f1=open(\"test1\",\"w\")\n",
    "data=f.read()\n",
    "f1.write(data[::-1])\n",
    "f.close()\n",
    "f1.close()"
   ]
  },
  {
   "cell_type": "markdown",
   "metadata": {},
   "source": [
    "## Reverse the lines of a file and store"
   ]
  },
  {
   "cell_type": "code",
   "execution_count": 10,
   "metadata": {},
   "outputs": [],
   "source": [
    "f=open(\"test\",\"r\")\n",
    "f1=open(\"test1\",\"w\")\n",
    "data=f.readlines()[::-1]\n",
    "f1.writelines(data)\n",
    "f.close()\n",
    "f1.close()"
   ]
  },
  {
   "cell_type": "markdown",
   "metadata": {},
   "source": [
    "## Take Line number from user and return it from the file"
   ]
  },
  {
   "cell_type": "code",
   "execution_count": 18,
   "metadata": {},
   "outputs": [
    {
     "name": "stdout",
     "output_type": "stream",
     "text": [
      "Enter the line Number:4\n",
      "University:LJU\n",
      "\n"
     ]
    }
   ],
   "source": [
    "ln=int(input(\"Enter the line Number:\"))\n",
    "with open(\"test\",\"r\") as f:\n",
    "    data=f.readlines()\n",
    "    print(data[ln-1] if len(data)>=ln else f\"{ln} Line Not Found!!\")"
   ]
  },
  {
   "cell_type": "markdown",
   "metadata": {},
   "source": [
    "## Copy Odd and Even lines in different files from given file"
   ]
  },
  {
   "cell_type": "code",
   "execution_count": 20,
   "metadata": {},
   "outputs": [],
   "source": [
    "with open(\"test\",\"r\") as f:\n",
    "    data=f.readlines()\n",
    "    with open(\"test1\",\"w\") as f1:\n",
    "        f1.writelines(data[::2])\n",
    "    with open(\"test2\",\"w\") as f2:\n",
    "        f2.writelines(data[1::2])"
   ]
  },
  {
   "cell_type": "markdown",
   "metadata": {},
   "source": [
    "## Pager Program"
   ]
  },
  {
   "cell_type": "code",
   "execution_count": 11,
   "metadata": {},
   "outputs": [
    {
     "name": "stdout",
     "output_type": "stream",
     "text": [
      "Enter name of the File:test\n",
      "Enter Lines Limit:5\n",
      "1. Name:ALice\n",
      "2. Age:21\n",
      "3. Degree:CSE\n",
      "4. University:LJU\n",
      "5. Degree:CSE\n",
      "Press Q to Quit or Continue:g\n",
      "6. University:LJU\n",
      "7. Degree:CSE\n",
      "8. University:LJU\n",
      "9. Degree:CSE\n",
      "10. University:LJU\n"
     ]
    }
   ],
   "source": [
    "filename=input(\"Enter name of the File:\")\n",
    "n=int(input(\"Enter Lines Limit:\"))\n",
    "with open(filename,\"r\") as f:\n",
    "    lines=f.readlines()\n",
    "    for ln,line in enumerate(lines,1):\n",
    "        print(f\"{ln}. {line}\",end=\"\")\n",
    "        if ln%n==0 and ln!=len(lines):\n",
    "            if input(\"Press Q to Quit or Continue:\").lower() ==\"q\":\n",
    "                break"
   ]
  },
  {
   "cell_type": "markdown",
   "metadata": {},
   "source": [
    "## Copy two file in one file "
   ]
  },
  {
   "cell_type": "code",
   "execution_count": 12,
   "metadata": {},
   "outputs": [],
   "source": [
    "with open(\"test2\",\"w\") as o:\n",
    "    with open(\"test\",\"r\") as i1:\n",
    "        o.write(i1.read())\n",
    "    with open(\"test1\",\"r\") as i2:\n",
    "        o.write(i2.read())"
   ]
  },
  {
   "cell_type": "markdown",
   "metadata": {},
   "source": [
    "## Remove Comments"
   ]
  },
  {
   "cell_type": "code",
   "execution_count": 1,
   "metadata": {},
   "outputs": [],
   "source": [
    "with open(\"code\",\"r\") as ip:\n",
    "    with open(\"nocom\",\"w\") as op:\n",
    "        for i in ip:\n",
    "            if len(i)!=0 and i.strip()[0]!=\"#\":\n",
    "                if \"#\" in i:\n",
    "                    op.write(i[:i.find(\"#\")]+\"\\n\")\n",
    "                else:\n",
    "                    op.write(i)"
   ]
  }
 ],
 "metadata": {
  "kernelspec": {
   "display_name": "Python 3",
   "language": "python",
   "name": "python3"
  },
  "language_info": {
   "codemirror_mode": {
    "name": "ipython",
    "version": 3
   },
   "file_extension": ".py",
   "mimetype": "text/x-python",
   "name": "python",
   "nbconvert_exporter": "python",
   "pygments_lexer": "ipython3",
   "version": "3.8.5"
  }
 },
 "nbformat": 4,
 "nbformat_minor": 4
}
