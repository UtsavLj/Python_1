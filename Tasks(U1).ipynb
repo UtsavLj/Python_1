{
 "cells": [
  {
   "cell_type": "markdown",
   "metadata": {},
   "source": [
    "## Triangle's Formula"
   ]
  },
  {
   "cell_type": "code",
   "execution_count": 2,
   "metadata": {},
   "outputs": [
    {
     "name": "stdout",
     "output_type": "stream",
     "text": [
      "Enter the Height:5\n",
      "Enter the Base:6\n",
      "Area of the triangle is 15.0\n"
     ]
    }
   ],
   "source": [
    "h=int(input(\"Enter the Height:\"))\n",
    "b=int(input(\"Enter the Base:\"))\n",
    "print(f\"Area of the triangle is {1/2*b*h}\")"
   ]
  },
  {
   "cell_type": "markdown",
   "metadata": {},
   "source": [
    "## Farenheit to Celsius and Vice-Versa"
   ]
  },
  {
   "cell_type": "code",
   "execution_count": 17,
   "metadata": {},
   "outputs": [
    {
     "name": "stdout",
     "output_type": "stream",
     "text": [
      "Enter the temperature in Celsius:12\n",
      "Farenheits:53.6\n",
      "Enter the temperature in Farenheits:53\n",
      "Celsius:11.666666666666668\n"
     ]
    }
   ],
   "source": [
    "c=float(input(\"Enter the temperature in Celsius:\"))\n",
    "f=c*9/5+32\n",
    "print(f\"Farenheits:{f}\")\n",
    "f=float(input(\"Enter the temperature in Farenheits:\"))\n",
    "c=(f-32)*(5/9)\n",
    "print(f\"Celsius:{c}\")"
   ]
  },
  {
   "cell_type": "markdown",
   "metadata": {},
   "source": [
    "## Days to YMD"
   ]
  },
  {
   "cell_type": "code",
   "execution_count": 12,
   "metadata": {},
   "outputs": [
    {
     "name": "stdout",
     "output_type": "stream",
     "text": [
      "Enter the number of Days:366\n",
      "Years:1, Months:0, Days:1\n"
     ]
    }
   ],
   "source": [
    "n=int(input(\"Enter the number of Days:\"))\n",
    "y=n//365\n",
    "m=n%365//30\n",
    "d=(n%365)%30\n",
    "print(f\"Years:{y}, Months:{m}, Days:{d}\")"
   ]
  },
  {
   "cell_type": "markdown",
   "metadata": {},
   "source": [
    "## Positive or Negative"
   ]
  },
  {
   "cell_type": "code",
   "execution_count": 22,
   "metadata": {},
   "outputs": [
    {
     "name": "stdout",
     "output_type": "stream",
     "text": [
      "Enter A Positive or Negative Number:42.23\n",
      "The Number is Positive.\n"
     ]
    }
   ],
   "source": [
    "x=float(input(\"Enter A Positive or Negative Number:\"))\n",
    "s=\"Positive\" if x>=0 else \"Negative\"\n",
    "print(f\"The Number is {s}.\")"
   ]
  },
  {
   "cell_type": "markdown",
   "metadata": {},
   "source": [
    "## The Number of Notes in Amount"
   ]
  },
  {
   "cell_type": "code",
   "execution_count": 24,
   "metadata": {},
   "outputs": [
    {
     "name": "stdout",
     "output_type": "stream",
     "text": [
      "Enter the Amount:3645\n",
      "500:7, 200:0, 100:1, 50:0, 20:2, 10:0, 5:1, 2:0, 1:0\n"
     ]
    }
   ],
   "source": [
    "a=int(input(\"Enter the Amount:\"))\n",
    "n500=a//500\n",
    "a%=500\n",
    "n200=a//200\n",
    "a%=200\n",
    "n100=a//100\n",
    "a%=100\n",
    "n50=a//50\n",
    "a%=50\n",
    "n20=a//20\n",
    "a%=20\n",
    "n10=a//10\n",
    "a%=10\n",
    "n5=a//5\n",
    "a%=5\n",
    "n2=a//2\n",
    "a%=2\n",
    "print(f\"500:{n500}, 200:{n200}, 100:{n100}, 50:{n50}, 20:{n20}, 10:{n10}, 5:{n5}, 2:{n2}, 1:{a}\")"
   ]
  }
 ],
 "metadata": {
  "kernelspec": {
   "display_name": "Python 3",
   "language": "python",
   "name": "python3"
  },
  "language_info": {
   "codemirror_mode": {
    "name": "ipython",
    "version": 3
   },
   "file_extension": ".py",
   "mimetype": "text/x-python",
   "name": "python",
   "nbconvert_exporter": "python",
   "pygments_lexer": "ipython3",
   "version": "3.8.5"
  }
 },
 "nbformat": 4,
 "nbformat_minor": 4
}
